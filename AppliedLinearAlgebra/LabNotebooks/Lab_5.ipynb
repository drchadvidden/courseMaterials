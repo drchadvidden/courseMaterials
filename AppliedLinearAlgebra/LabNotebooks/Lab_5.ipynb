{
  "cells": [
    {
      "cell_type": "markdown",
      "metadata": {
        "id": "view-in-github",
        "colab_type": "text"
      },
      "source": [
        "<a href=\"https://colab.research.google.com/github/drchadvidden/courseMaterials/blob/main/AppliedLinearAlgebra/LabNotebooks/Lab_5.ipynb\" target=\"_parent\"><img src=\"https://colab.research.google.com/assets/colab-badge.svg\" alt=\"Open In Colab\"/></a>"
      ]
    },
    {
      "cell_type": "markdown",
      "metadata": {
        "collapsed": false,
        "id": "P28zpbfSUcQX"
      },
      "source": [
        "# Lab 5: Matrix multiplication, inverses, numerical instability\n",
        "\n",
        "MTH 308: Applied Linear Algebra\n",
        "\n",
        "Lab parts:\n",
        "\n",
        "- Part 1: Matrix multiplication via for loops, Exercise 1\n",
        "- Part 2: Matrix inverses by Gaussian Elimination, Exercise 2\n",
        "- Part 3: Machine error and numerical instability, Exercise 3\n",
        "\n"
      ]
    },
    {
      "cell_type": "markdown",
      "metadata": {
        "collapsed": false,
        "id": "V3GCtYb3UcQb"
      },
      "source": [
        "## Instructions\n",
        "\n",
        "Run each of the coding cells. For example cells, understand the commands and check that the outputs make sense. For exercise cells, write your own code where indicated to generate the correct output.\n",
        "\n",
        "<u>Submission:</u> Complete the following notebook in order. Once done, print the notebook and save as an HTML file. Upload your submission to the Canvas course page.\n",
        "\n",
        "<u>Rubric:</u> 15 total points, 3 points to running example cells and saving outputs, 4 points per exercise block with correct output saved.\n",
        "\n",
        "<u>Deadline:</u> Wednesday at midnight after the lab is assigned.\n"
      ]
    },
    {
      "cell_type": "markdown",
      "metadata": {
        "collapsed": false,
        "id": "VJXco4UvUcQc"
      },
      "source": [
        "## Part 1: Matrix multiplication via for loops, Exercise 1\n",
        "\n",
        "Here we code the calculation of $AB$ by\n",
        "- Building a custom function with nested for loops\n",
        "- Using built-in commands"
      ]
    },
    {
      "cell_type": "markdown",
      "metadata": {
        "collapsed": false,
        "id": "TJR-K4M1UcQc"
      },
      "source": [
        "#### Explanation\n",
        "\n",
        "Recall from class one of the methods for computing $AB=C$ as\n",
        "$$\n",
        "c_{ij} = \\sum_{k=1}^n a_{ik} b_{kj}\n",
        "$$\n",
        "where $c_{ij}$ is the entry in row $i$ and column $j$ of matrix $C$. Note we need dimension of $A$ as $(m \\times n)$ and dimension of $B$ as $(n \\times p)$ for this multiplication to be compatible and the resulting matrix $C$ ends up having dimentions $(m \\times p)$."
      ]
    },
    {
      "cell_type": "markdown",
      "metadata": {
        "collapsed": false,
        "id": "vzZYz4skUcQd"
      },
      "source": [
        "#### Example\n",
        "\n",
        "The below matrices $A$ and $B$ are compatible for multiplying since the number of columns of $A$ matches the number of rows of $B$.\n",
        "$$\n",
        "A = \\left[\n",
        "\\begin{array}{ccc}\n",
        "3 & 1 & 4 \\\\\n",
        "1 & 5 & 9\n",
        "\\end{array}\n",
        "\\right], \\quad\n",
        "B = \\left[\n",
        "\\begin{array}{cc}\n",
        "2 & 7  \\\\\n",
        "1 & 8 \\\\\n",
        "2 & 8\n",
        "\\end{array}\n",
        "\\right]\n",
        "$$\n",
        "The resulting product $C=AB$ is of dimension $(2 \\times 2)$. If we want entry $c_{22}$ of $C$, we compute as\n",
        "$$\n",
        "c_{22} = a_{21}b_{12} + a_{22}b_{22} + a_{23}b_{32} = 1(7) + 5(8) + 9(8) = 119.\n",
        "$$"
      ]
    },
    {
      "cell_type": "markdown",
      "metadata": {
        "collapsed": false,
        "id": "scEM3yQXUcQd"
      },
      "source": [
        "#### Exercise 1: Matrix multiplication\n",
        "\n",
        "For the above matrices $A$ and $B$, compute the product $C=AB$ by using nested for loops."
      ]
    },
    {
      "cell_type": "code",
      "execution_count": null,
      "metadata": {
        "id": "arF092P9UcQd"
      },
      "outputs": [],
      "source": [
        "##################\n",
        "# EXERCISE CELL\n",
        "##################\n",
        "\n",
        "library(matlib)\n",
        "\n",
        "# given matrices A and B\n",
        "A <- matrix(c(3, 1, 4,\n",
        "              1, 5, 9), nrow=2, ncol=3, byrow=TRUE)\n",
        "B <- matrix(c(2, 7,\n",
        "              1, 8,\n",
        "              2, 8), nrow=3, ncol=2, byrow=TRUE)\n",
        "\n",
        "# resulting produce C\n",
        "C <- matrix(0, nrow=2, ncol=2, byrow=TRUE)\n",
        "\n",
        "# nested for loop to compute C=AB\n",
        "for (i in c(1:2)){\n",
        "    for (j in c(1:2)){\n",
        "        C[i,j] <- 0\n",
        "        for (k in c(1:3)){\n",
        "\n",
        "            ##########################\n",
        "            # beginning of your code\n",
        "\n",
        "\n",
        "\n",
        "            # end of your code\n",
        "            ##########################\n",
        "        }\n",
        "    }\n",
        "}\n",
        "\n",
        "print(\"Your calculuation:\")\n",
        "print(C)\n",
        "print(\"R routine check of work:\")\n",
        "print(A %*% B)"
      ]
    },
    {
      "cell_type": "markdown",
      "metadata": {
        "collapsed": false,
        "id": "aEUvVGPdUcQf"
      },
      "source": [
        "Create a general function which has inputs of matrices $A$ and $B$ and outputs new matrix $C$ where $C=AB$. This function should produce an error message if $A$ and $B$ are not compatible. Test your functions for $A$ and $B$ above as well as 2 random examples by comparing to the built in $A \\%*\\% B$ command."
      ]
    },
    {
      "cell_type": "code",
      "execution_count": null,
      "metadata": {
        "id": "q3D3JUPFUcQg"
      },
      "outputs": [],
      "source": [
        "##################\n",
        "# EXERCISE CELL\n",
        "##################\n",
        "\n",
        "##########################\n",
        "# beginning of your code\n",
        "\n",
        "\n",
        "# end of your code\n",
        "##########################\n",
        "\n",
        "# example of a randomly generated matrix\n",
        "A <- matrix(sample.int(100, size = 4*5, replace = TRUE), nrow = 4, ncol = 5)\n",
        "\n"
      ]
    },
    {
      "cell_type": "markdown",
      "metadata": {
        "collapsed": false,
        "id": "yu8sMVyGUcQh"
      },
      "source": [
        "## Part 2: Matrix inverses by Gaussian Elimination, Exercise 2\n",
        "\n",
        "Here we compute the inverse of a matrix by solving a set of linear systems."
      ]
    },
    {
      "cell_type": "markdown",
      "metadata": {
        "collapsed": false,
        "id": "8E5sKZPrUcQh"
      },
      "source": [
        "#### Explanation\n",
        "\n",
        "Recall the inverse of square matrix $A$, written $A^{-1}$, is defined as the matrix such that\n",
        "$$\n",
        "A A^{-1} = A^{-1} A = I.\n",
        "$$\n",
        "We can compute the $i$th column of $A^{-1}$ by solving the linear system\n",
        "$$\n",
        "A \\vec{x} = \\vec{e}_i\n",
        "$$\n",
        "for $\\vec{e}_i$ the $i$th unit basis vector."
      ]
    },
    {
      "cell_type": "markdown",
      "metadata": {
        "collapsed": false,
        "id": "FwawpughUcQh"
      },
      "source": [
        "#### Example\n",
        "\n",
        "For $(2\\times 2)$ matrix\n",
        "$$\n",
        "A = \\left[\n",
        "\\begin{array}{cc}\n",
        "1 & 2 \\\\\n",
        "3 & 4\n",
        "\\end{array}\n",
        "\\right]\n",
        "$$\n",
        "we need to solve\n",
        "$$\n",
        "\\left[\n",
        "\\begin{array}{cc}\n",
        "1 & 2 \\\\\n",
        "3 & 4\n",
        "\\end{array}\n",
        "\\right] \\vec{x} = \\left[\n",
        "\\begin{array}{c}\n",
        "1 \\\\ 0\n",
        "\\end{array}\n",
        "\\right], \\quad \\text{and} \\quad \\left[\n",
        "\\begin{array}{cc}\n",
        "1 & 2 \\\\\n",
        "3 & 4\n",
        "\\end{array}\n",
        "\\right] \\vec{x} = \\left[\n",
        "\\begin{array}{c}\n",
        "0 \\\\ 1\n",
        "\\end{array} \\right]\n",
        "$$\n",
        "as is done in the below code."
      ]
    },
    {
      "cell_type": "code",
      "execution_count": null,
      "metadata": {
        "id": "YGWkGC9AUcQi"
      },
      "outputs": [],
      "source": [
        "##################\n",
        "# EXAMPLE CELL\n",
        "# you do not need to code anything here\n",
        "##################\n",
        "\n",
        "library(matlib)\n",
        "\n",
        "A <- matrix(c(1, 2,\n",
        "              3, 4), nrow=2, ncol=2, byrow=TRUE)\n",
        "Ainv <- matrix(0, nrow=2, ncol=2) # inverse matrix to compute\n",
        "\n",
        "# compute the first column of A^{-1}\n",
        "e1 <- rep(0,2)\n",
        "e1[1] <- 1\n",
        "x <- solve(A,e1)\n",
        "Ainv[,1] <- x\n",
        "\n",
        "# compute the second column of A^{-1}\n",
        "e2 <- rep(0,2)\n",
        "e2[2] <- 1\n",
        "x <- solve(A,e2)\n",
        "Ainv[,2] <- x\n",
        "\n",
        "print(\"Computed A inverse\")\n",
        "print(Ainv)\n",
        "print(\"Check the product A^{-1} * A\")\n",
        "print(Ainv %*% A) # note there is computer roundoff error here since out machine can only get ~15 digits accuracy\n",
        "print(\"Check the product A * A^{-1}\")\n",
        "print(A %*% Ainv) # check that we get the identity matrix\n",
        "print(inv(A)) # check via matlib package function"
      ]
    },
    {
      "cell_type": "markdown",
      "metadata": {
        "collapsed": false,
        "id": "TWNWuhzJUcQi"
      },
      "source": [
        "#### Exercise 2: Matrix inverses\n",
        "\n",
        "Write a general function which takes a matrix $A$ as input and returns the inverse of $A$ as a result. Your function should check if the matrix is square and return an error if it isn't. Test your function for matrix $A$ above as well as 2 random examples of dimension bigger than 2.\n"
      ]
    },
    {
      "cell_type": "code",
      "execution_count": null,
      "metadata": {
        "id": "-gFmPW7xUcQi"
      },
      "outputs": [],
      "source": [
        "##################\n",
        "# EXERCISE CELL\n",
        "##################\n",
        "\n",
        "##########################\n",
        "# beginning of your code\n",
        "\n",
        "# end of your code\n",
        "##########################\n"
      ]
    },
    {
      "cell_type": "markdown",
      "metadata": {
        "collapsed": false,
        "id": "bFf5-GN0UcQi"
      },
      "source": [
        "## Part 3: Machine error and numerical instability, Exercise 3\n",
        "\n",
        "Here you will explore machine roundoff error through the famous example of a Hilbert matrix."
      ]
    },
    {
      "cell_type": "markdown",
      "metadata": {
        "collapsed": false,
        "id": "PbWm6W85UcQi"
      },
      "source": [
        "#### Exercise 3: Hilbert Matrix\n",
        "\n",
        "See the following link for an definition of a Hilbert matrix: https://en.wikipedia.org/wiki/Hilbert_matrix\n",
        "\n",
        "Create a function which inputs a positive integer $n$ and outputs the $(n\\times n)$ Hilbert matrix $H$."
      ]
    },
    {
      "cell_type": "code",
      "execution_count": null,
      "metadata": {
        "id": "dj4XhwIZUcQi"
      },
      "outputs": [],
      "source": [
        "##################\n",
        "# EXERCISE CELL\n",
        "##################\n",
        "\n",
        "##########################\n",
        "# beginning of your code\n",
        "\n",
        "\n",
        "# end of your code\n",
        "##########################"
      ]
    },
    {
      "cell_type": "markdown",
      "metadata": {
        "collapsed": false,
        "id": "4HneKVVRUcQj"
      },
      "source": [
        "Using the above Hilbert matrix function, perform the following experiment for $n=5, 10, 15, 20,25$.\n",
        "\n",
        "- Create a vector $\\vec{x}$ of all ones and length $n$.\n",
        "- Create the right hand side vector $\\vec{b} = H * \\vec{x}$.\n",
        "- Solve the system $H\\vec{x}=\\vec{b}$ where $\\vec{x}$ is considered unknown. Use the $solve(H,b,tol=1e-20)$ command from the $matlib$ library.\n",
        "- Check how far your computed solution is compared the the expected vector of all ones.\n",
        "- Find the inverse of $H$ using your above matrix inverse function.\n",
        "- Verify your inverse function is correct by computing $H* H^{-1}$ using your above matrix multiplication function. Also check using the built in $\\% * \\%$ function. Also try out the $Inverse(H, tol=1e-20)$ function from the $matlib$ library.\n",
        "\n"
      ]
    },
    {
      "cell_type": "code",
      "execution_count": null,
      "metadata": {
        "id": "09ca2OfvUcQj"
      },
      "outputs": [],
      "source": [
        "##################\n",
        "# EXERCISE CELL\n",
        "##################\n",
        "\n",
        "##########################\n",
        "# beginning of your code\n",
        "# end of your code\n",
        "##########################"
      ]
    },
    {
      "cell_type": "markdown",
      "metadata": {
        "collapsed": false,
        "id": "Q_rtxq2VUcQj"
      },
      "source": [
        "### Exercise 3: EXPLAIN YOUR FINDINGS HERE\n",
        "\n"
      ]
    },
    {
      "cell_type": "markdown",
      "metadata": {
        "collapsed": false,
        "id": "A10JXbaQUcQj"
      },
      "source": [
        "### Bonus: Research the method the Matlib library uses for inverse matrix calculation. Report and demonstrate any findings you find interesting.\n",
        "\n"
      ]
    },
    {
      "cell_type": "code",
      "execution_count": null,
      "metadata": {
        "id": "CTi5RLeNUcQj"
      },
      "outputs": [],
      "source": []
    }
  ],
  "metadata": {
    "kernelspec": {
      "argv": [
        "/usr/bin/R",
        "-e",
        "IRkernel::main()",
        "--args",
        "{connection_file}"
      ],
      "display_name": "R (system-wide)",
      "env": {},
      "language": "r",
      "metadata": {
        "cocalc": {
          "description": "R statistical programming language",
          "priority": 10,
          "url": "https://www.r-project.org/"
        }
      },
      "name": "ir",
      "resource_dir": "/ext/jupyter/kernels/ir"
    },
    "language_info": {
      "codemirror_mode": "r",
      "file_extension": ".r",
      "mimetype": "text/x-r-source",
      "name": "R",
      "pygments_lexer": "r",
      "version": "4.2.2"
    },
    "colab": {
      "provenance": [],
      "include_colab_link": true
    }
  },
  "nbformat": 4,
  "nbformat_minor": 0
}