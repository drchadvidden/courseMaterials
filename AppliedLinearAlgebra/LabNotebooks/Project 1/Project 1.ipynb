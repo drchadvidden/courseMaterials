{
 "cells": [
  {
   "cell_type": "markdown",
   "metadata": {
    "collapsed": false
   },
   "source": [
    "# Project 1: Discrete Dynamical Systems\n",
    "\n",
    "MTH 308: Applied Linear Algebra <br>\n",
    "Spring 2022\n",
    "\n",
    "Project parts: \n",
    "\n",
    "- Part 1: Explanation of main concepts\n",
    "- Part 2: Reproducing example results\n",
    "- Part 3: Exercise(s)\n",
    "- Part 4: Application research discussion\n",
    "- Part 5: Group member contributions\n",
    "\n"
   ]
  },
  {
   "cell_type": "markdown",
   "metadata": {
    "collapsed": false
   },
   "source": [
    "## Instructions\n",
    "\n",
    "Complete each part as instructed. You are encouraged to work in groups, though you may work independently if you choose.\n",
    "\n",
    "<u>Submission:</u> Complete the following notebook in order. Once done, print the notebook and save as an HTML file. Upload your submission to the Canvas course page.\n",
    "\n",
    "<u>Rubric:</u> 40 total points, 10 points for each part.\n",
    "\n",
    "<u>Deadline:</u> Wednesday, May 4 at midnight.\n"
   ]
  },
  {
   "cell_type": "markdown",
   "metadata": {
    "collapsed": false
   },
   "source": [
    "## Project description\n",
    "A discrete dynamical system is defined by the difference equation\n",
    "$$\n",
    "\\vec{x}_{k+1} = A \\vec{x}_k, \\quad \\vec{x}_0 \\text{ given.}\n",
    "$$\n",
    "Eigenvalues and eigenvectors play a key role in understanding the long-term behavior of such systems. With this project, you will explore the connections between ideas of this course and a popular application of linear algebra.\n",
    "\n",
    "Use Section 5.6 of our textbook as the primary resource for this project. Complete each of the following items by creating markdown blocks for discussion / explanation and coding blocks for calculation. \n",
    "\n",
    "I encourage you to use the matlib R package as much as possible."
   ]
  },
  {
   "cell_type": "markdown",
   "metadata": {
    "collapsed": false
   },
   "source": [
    "## Part 1: Explanation of main concepts\n",
    "\n",
    "Carefully read section 5.6 of the text and complete the following:\n",
    "- Give a bulleted list of key ideas of the section\n",
    "- For each key idea, create a subsection within this part which explains the idea completely. You should draw on explanations form the text, though your writing should be of your own thoughts.\n",
    "- Integrate 1-2 basic examples from the text into your above explations. Use R coding blocks to do any calculations or graphs. Use Latex to typeset math explanations. You should not take screenshots of the text here."
   ]
  },
  {
   "cell_type": "markdown",
   "metadata": {
    "collapsed": false
   },
   "source": [
    "## Part 2: Reproducing example results\n",
    "\n",
    "The primary example of this section is the discussion of the predator-prey system of the owl and wood rat populations. For this example, complete the following:\n",
    "- Give a complete explanation of the problem motivation and formulation.\n",
    "- Reproduce example results given in the text (both math results via Latex and computational results via R)"
   ]
  },
  {
   "cell_type": "markdown",
   "metadata": {
    "collapsed": false
   },
   "source": [
    "## Part 3: Exercises(s)\n",
    "\n",
    "Complete exercises 16, 17, and 18 in section 5.6 of the textbook. Give a complete explanation of each."
   ]
  },
  {
   "cell_type": "markdown",
   "metadata": {
    "collapsed": false
   },
   "source": [
    "## Part 4: Application research discussion\n",
    "\n",
    "Research the concept of a Markov chain and complete the following:\n",
    "- Give short explanation of the ideas from a linear algebra view.\n",
    "- Outline 3 applications of Markov chains.\n",
    "- Give a detailed explation of 1 application of Markov chains.\n",
    "- Cite any references you use for your explanations.\n",
    "\n",
    "Feel free to reference section 4.9 of the text as well as the Markov Chain chapter on Canvas."
   ]
  },
  {
   "cell_type": "markdown",
   "metadata": {
    "collapsed": false
   },
   "source": [
    "## Part 5: Group member contributions\n",
    "\n",
    "Give a summary of each group members contribution to this project. This summary should include:\n",
    "- Approximate total time each member spent on the project.\n",
    "- Which parts each member contributed to on the project."
   ]
  },
  {
   "cell_type": "markdown",
   "metadata": {
    "collapsed": false
   },
   "source": [
   ]
  }
 ],
 "metadata": {
  "kernelspec": {
   "display_name": "R (system-wide)",
   "language": "r",
   "metadata": {
    "cocalc": {
     "description": "R statistical programming language",
     "priority": 10,
     "url": "https://www.r-project.org/"
    }
   },
   "name": "ir",
   "resource_dir": "/ext/jupyter/kernels/ir"
  },
  "language_info": {
   "codemirror_mode": "r",
   "file_extension": ".r",
   "mimetype": "text/x-r-source",
   "name": "R",
   "pygments_lexer": "r",
   "version": "4.1.3"
  }
 },
 "nbformat": 4,
 "nbformat_minor": 4
}