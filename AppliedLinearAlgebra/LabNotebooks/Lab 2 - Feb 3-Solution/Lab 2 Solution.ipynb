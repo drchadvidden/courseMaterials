{
 "cells": [
  {
   "cell_type": "markdown",
   "metadata": {
    "collapsed": false
   },
   "source": [
    "# Lab 2: Matrix vector multiplication\n",
    "     \n",
    "MTH 308: Applied Linear Algebra <br>\n",
    "Spring 2022\n",
    "\n",
    "Lab parts: \n",
    "- Part 1: Vector dot product, function error messages\n",
    "- Part 2: Matrix vector multiplication example and function, Exercise 1 and 2\n",
    "- Part 3: Efficiency and limits of nested for loops, Exercise 3"
   ]
  },
  {
   "cell_type": "markdown",
   "metadata": {
    "collapsed": false
   },
   "source": [
    "## Instructions\n",
    "\n",
    "Run each of the coding cells. For example cells, understand the commands and check that the outputs make sense. For exercise cells, write your own code where indicated to generate the correct output.\n",
    "\n",
    "<u>Submission:</u> Complete the following notebook in order. Once done, print the notebook and save as an HTML file. Upload your submission to the Canvas course page.\n",
    "\n",
    "<u>Rubric:</u> 15 total points, 3 points to running example cells and saving outputs, 4 points per exercise block with correct output saved.\n",
    "\n",
    "<u>Deadline:</u> Monday at midnight after the lab is assigned."
   ]
  },
  {
   "cell_type": "markdown",
   "metadata": {
    "collapsed": false
   },
   "source": [
    "## Part 1: Vector dot product\n",
    "\n",
    "Recall dot product definition of two vectors and how to calculate:\n",
    "- Math summation definition\n",
    "- Calculation within a for loop\n",
    "- General function to compute the dot product"
   ]
  },
  {
   "cell_type": "markdown",
   "metadata": {
    "collapsed": false
   },
   "source": [
    "#### Dot product definition\n",
    "\n",
    "Recall the dot product of two vectors is defined as\n",
    "$$\n",
    "\\vec{a} \\cdot \\vec{b} = a_1 b_1 + a_2 b_2 + \\dots a_n b_n = \\sum_{i=1}^n a_i b_i\n",
    "$$\n",
    "for $n$-dimensional vectors $\\vec{a}=[a_1,a_2,\\dots,a_n]^T$ and $\\vec{b}=[b_1,b_2,\\dots,b_n]^T$. Note the dimension of $\\vec{a}$ and $\\vec{b}$ must be the same for the dot product to be defined. The dot product has many nice applications including comparing the direction of two vectors. See https://en.wikipedia.org/wiki/Dot_product for discussion."
   ]
  },
  {
   "cell_type": "markdown",
   "metadata": {
    "collapsed": false
   },
   "source": [
    "#### Example dot product calculation\n",
    "\n",
    "Here we use a for loop to calculate the dot product of vectors $\\vec{a}=[3,1,4]^T$ and $\\vec{b}=[2,1,7]^T$. The result we should get is\n",
    "$$\n",
    "\\vec{a} \\cdot \\vec{b} = a_1b_1 + a_2b_2 + a_3b_3 = 3(2)+1(1)+4(7) = 6+1+28 = 35.\n",
    "$$"
   ]
  },
  {
   "cell_type": "code",
   "execution_count": 1,
   "metadata": {
    "collapsed": false
   },
   "outputs": [
    {
     "name": "stdout",
     "output_type": "stream",
     "text": [
      "[1] 35\n"
     ]
    }
   ],
   "source": [
    "##################\n",
    "# EXAMPLE CELL\n",
    "##################\n",
    "\n",
    "# Press \"SHIFT\" + \"ENTER\" to execute each coding cell. You should follow the commands and ensure the results make sense.\n",
    "\n",
    "# create example vectors\n",
    "a <- c(3,1,4)\n",
    "b <- c(2,1,7)\n",
    "\n",
    "\n",
    "dotProd <- 0 # variable for storing dot product result\n",
    "# use a for loop to compute the dot product\n",
    "for (i in c(1:length(a))){\n",
    "    dotProd <- dotProd + a[i]*b[i] # dot product formula iterated\n",
    "}\n",
    "\n",
    "print(dotProd) # print result"
   ]
  },
  {
   "cell_type": "markdown",
   "metadata": {
    "collapsed": false
   },
   "source": [
    "#### Function for dot product calculation\n",
    "\n",
    "Here we create a general function for computing the dot product of any two vectors $\\vec{a}$ and $\\vec{b}$. Note, we will need to check that the dimension of these two vectors agree before computing. If the dimensions differ, an error message is generated."
   ]
  },
  {
   "cell_type": "code",
   "execution_count": 2,
   "metadata": {
    "collapsed": false
   },
   "outputs": [
    {
     "name": "stdout",
     "output_type": "stream",
     "text": [
      "[1] 35\n"
     ]
    },
    {
     "name": "stdout",
     "output_type": "stream",
     "text": [
      "[1] 35\n"
     ]
    },
    {
     "name": "stdout",
     "output_type": "stream",
     "text": [
      "[1] \"Error: Vector dimensions are not the same, you are crazy.\"\n"
     ]
    },
    {
     "name": "stdout",
     "output_type": "stream",
     "text": [
      "[1] 42925\n"
     ]
    },
    {
     "name": "stdout",
     "output_type": "stream",
     "text": [
      "[1] 147090\n"
     ]
    },
    {
     "name": "stdout",
     "output_type": "stream",
     "text": [
      "[1] 147090\n"
     ]
    }
   ],
   "source": [
    "##################\n",
    "# EXAMPLE CELL\n",
    "##################\n",
    "\n",
    "# general function for dot product calculation\n",
    "dotProdFun <- function(a,b) {\n",
    "    \n",
    "    # check if the dimensions of a and be are different, if so, return error message\n",
    "    if (length(a) != length(b)){\n",
    "        return(\"Error: Vector dimensions are not the same, you are crazy.\")\n",
    "    }\n",
    "    \n",
    "    dotProd <- 0 # variable for storing dot product result\n",
    "    \n",
    "    # use a for loop to compute the dot product\n",
    "    for (i in c(1:length(a))){\n",
    "        dotProd <- dotProd + a[i]*b[i] # dot product formula iterated\n",
    "    }\n",
    "    \n",
    "    return(dotProd)\n",
    "}\n",
    "\n",
    "# test the function on above example\n",
    "a <- c(3,1,4)\n",
    "b <- c(2,1,7)\n",
    "print(dotProdFun(a,b))\n",
    "\n",
    "# note there are many open R libraries which have functions we can just use\n",
    "# let's use one library routine to do this calculation\n",
    "library(geometry) # load dot(.,.) function from geometry library, see documentation for details https://cran.r-project.org/web/packages/geometry/geometry.pdf\n",
    "print(dot(a,b)) # call that function instead of ours\n",
    "\n",
    "# test our function vectors whose dimension differ\n",
    "a <- c(3,1,4,1,5)\n",
    "b <- c(2,1,7)\n",
    "print(dotProdFun(a,b))\n",
    "\n",
    "# test our function on two large vectors\n",
    "a <- c(1:50)\n",
    "print(dotProdFun(a,a))\n",
    "\n",
    "# test our function on two random vectors\n",
    "a <- sample(c(1:100), size=50, replace=TRUE) # generate a random vector of dimension 50 by sampling set of integers 1,2,3,...,100\n",
    "b <- sample(c(1:100), size=50, replace=TRUE)\n",
    "\n",
    "print(dotProdFun(a,b))\n",
    "print(dot(a,b)) # compare to library routine"
   ]
  },
  {
   "cell_type": "markdown",
   "metadata": {
    "collapsed": false
   },
   "source": [
    "## Part 2: Matrix vector multiplication\n",
    "\n",
    "Explore matrix vector multiplication:\n",
    "- Considering the summation algorithm we developed in class\n",
    "- Create a nested for loop implementation\n",
    "- Create a general function which multiplies any matrix by a vector and generates an error if dimensions disagree"
   ]
  },
  {
   "cell_type": "markdown",
   "metadata": {
    "collapsed": false
   },
   "source": [
    "#### Matrix vector multiplication calculation\n",
    "\n",
    "Consider multiplying matrix $A$ by vector $\\vec{x}$ resulting in vector $\\vec{b}$ as\n",
    "$$\n",
    "A \\vec{x} = \\vec{b}\n",
    "$$\n",
    "where the dimension of $A$ is $m \\times n$, vector $\\vec{x}$ must be of dimension $n$, and resulting vector $\\vec{b}$ will be of dimension $m$.\n",
    "\n",
    "Recall in class we derived the following summation formula for computing the $i$th entry of $\\vec{b}$.\n",
    "$$\n",
    "b_i = \\sum_{j=1}^n a_{ij} x_j\n",
    "$$"
   ]
  },
  {
   "cell_type": "markdown",
   "metadata": {
    "collapsed": false
   },
   "source": [
    "### Exercise 1"
   ]
  },
  {
   "cell_type": "markdown",
   "metadata": {
    "collapsed": false
   },
   "source": [
    "Consider the following matrix $A$ and vector $\\vec{x}$.\n",
    "$$\n",
    "A = \\left[\n",
    "\\begin{array}{ccc}\n",
    "1 & 2 & -1 \\\\\n",
    "0 & -5 & 3\n",
    "\\end{array}\n",
    "\\right], \\quad \n",
    "\\vec{x} = \\left[\n",
    "\\begin{array}{c}\n",
    "4 \\\\ 3 \\\\ 7\n",
    "\\end{array}\n",
    "\\right]\n",
    "$$\n",
    "Here you will program the multiplication of $A \\vec{x}$ to compute resulting vector $\\vec{b}$. You should use the above dot product example code for reference."
   ]
  },
  {
   "cell_type": "code",
   "execution_count": 3,
   "metadata": {
    "collapsed": false
   },
   "outputs": [
    {
     "name": "stdout",
     "output_type": "stream",
     "text": [
      "[1] \"A\"\n"
     ]
    },
    {
     "name": "stdout",
     "output_type": "stream",
     "text": [
      "     [,1] [,2] [,3]\n",
      "[1,]    1    2   -1\n",
      "[2,]    0   -5    3\n"
     ]
    },
    {
     "name": "stdout",
     "output_type": "stream",
     "text": [
      "[1] \"x\"\n"
     ]
    },
    {
     "name": "stdout",
     "output_type": "stream",
     "text": [
      "[1] 4 3 7\n"
     ]
    },
    {
     "name": "stdout",
     "output_type": "stream",
     "text": [
      "[1] \"You should compute A*x by hand to check your understanding\"\n"
     ]
    },
    {
     "name": "stdout",
     "output_type": "stream",
     "text": [
      "[1] \"Your calculated b:\"\n"
     ]
    },
    {
     "name": "stdout",
     "output_type": "stream",
     "text": [
      "[1] 3 6\n"
     ]
    },
    {
     "name": "stdout",
     "output_type": "stream",
     "text": [
      "[1] \"Check your calculated b is right:\"\n"
     ]
    },
    {
     "name": "stdout",
     "output_type": "stream",
     "text": [
      "     [,1]\n",
      "[1,]    3\n",
      "[2,]    6\n"
     ]
    }
   ],
   "source": [
    "##################\n",
    "# EXERCISE CELL\n",
    "##################\n",
    "\n",
    "A <- matrix(c(1, 2, -1, 0, -5, 3), nrow=2, ncol=3, byrow=TRUE) # insert comment\n",
    "x <- c(4,3,7)\n",
    "print(\"A\")\n",
    "print(A)\n",
    "print(\"x\")\n",
    "print(x)\n",
    "print(\"You should compute A*x by hand to check your understanding\")\n",
    "\n",
    "b <- 0\n",
    "# loop over entries of resulting vector b, expect one entry for each row of A\n",
    "for (i in c(1:2)){\n",
    "    b[i] <- 0 # ith entry, should update this value below\n",
    "    \n",
    "    ###################\n",
    "    # beginning of your code, hint: you can either use a for loop or use the above dot product function\n",
    "    \n",
    "    b[i] <- dotProdFun(A[i,],x)\n",
    "    \n",
    "    # end of your code\n",
    "    ###################\n",
    "\n",
    "}\n",
    "\n",
    "print(\"Your calculated b:\")\n",
    "print(b) # check your computed result\n",
    "print(\"Check your calculated b is right:\")\n",
    "print(A %*% x) # compare to the built in R matrix multiplication routine\n"
   ]
  },
  {
   "cell_type": "markdown",
   "metadata": {
    "collapsed": false
   },
   "source": [
    "### Exercise 2\n",
    "\n",
    "Here you will code a function which computes the product of matrix $A$ with vector $\\vec{x}$ and returns resulting vector $\\vec{b}$. That is,\n",
    "$$\n",
    "A \\vec{x} = \\vec{b}.\n",
    "$$\n",
    "Your function will need to check if $A$ and $\\vec{x}$ have compatible dimensions. If not, you should return an appropriate error message."
   ]
  },
  {
   "cell_type": "code",
   "execution_count": 4,
   "metadata": {
    "collapsed": false
   },
   "outputs": [
    {
     "name": "stdout",
     "output_type": "stream",
     "text": [
      "[1] -34  29\n"
     ]
    },
    {
     "name": "stdout",
     "output_type": "stream",
     "text": [
      "     [,1]\n",
      "[1,]  -34\n",
      "[2,]   29\n"
     ]
    },
    {
     "name": "stdout",
     "output_type": "stream",
     "text": [
      "[1] \"Example 1\"\n"
     ]
    },
    {
     "name": "stdout",
     "output_type": "stream",
     "text": [
      "[1] 70 80 90\n"
     ]
    },
    {
     "name": "stdout",
     "output_type": "stream",
     "text": [
      "     [,1]\n",
      "[1,]   70\n",
      "[2,]   80\n",
      "[3,]   90\n"
     ]
    },
    {
     "name": "stdout",
     "output_type": "stream",
     "text": [
      "[1] \"Example 2\"\n"
     ]
    },
    {
     "name": "stdout",
     "output_type": "stream",
     "text": [
      "[1] \"Error: Dimensions are not compatible, you are crazy.\"\n"
     ]
    },
    {
     "ename": "ERROR",
     "evalue": "Error in A %*% x: non-conformable arguments\n",
     "output_type": "error",
     "traceback": [
      "Error in A %*% x: non-conformable arguments\nTraceback:\n",
      "1. print(A %*% x)"
     ]
    }
   ],
   "source": [
    "##################\n",
    "# EXERCISE CELL\n",
    "##################\n",
    "\n",
    "matrixVecMultFun <- function(A,x){\n",
    "        \n",
    "    b <- rep(0,nrow(A)) # update this resulting vector below\n",
    "    \n",
    "    ###################\n",
    "    # beginning of your code, make sure to return an error if dimensions of A and x aren't compatible\n",
    "    \n",
    "    # check if dimensions are incompatible\n",
    "    if (ncol(A) != length(x)){\n",
    "        return(\"Error: Dimensions are not compatible, you are crazy.\")\n",
    "    }\n",
    "    \n",
    "    # loop over entries of resulting vector b, expect one entry for each row of A\n",
    "    for (i in c(1:nrow(A))){\n",
    "    \n",
    "        b[i] <- dotProdFun(A[i,],x)\n",
    "    \n",
    "    }\n",
    "    \n",
    "    # end of your code\n",
    "    ###################\n",
    "    \n",
    "    return(b)\n",
    "}\n",
    "\n",
    "# test your function\n",
    "A <- matrix(c(1, 2, -1, 0, -5, 3), nrow=2, ncol=3) # insert comment\n",
    "x <- c(4,3,7)\n",
    "b <- matrixVecMultFun(A,x)\n",
    "print(b)\n",
    "print(A %*% x)\n",
    "\n",
    "# create 2 more examples of your own to test your function out, one should have incompatible dimensions\n",
    "###################\n",
    "# beginning of your code\n",
    "\n",
    "# example 1\n",
    "print(\"Example 1\")\n",
    "A <- matrix(c(1:12), nrow=3, ncol=4) # insert comment\n",
    "x <- c(1,2,3,4)\n",
    "b <- matrixVecMultFun(A,x)\n",
    "print(b)\n",
    "print(A %*% x)\n",
    "\n",
    "# example 2\n",
    "print(\"Example 2\")\n",
    "A <- matrix(c(1:12), nrow=3, ncol=4) # insert comment\n",
    "x <- c(1,2,3)\n",
    "b <- matrixVecMultFun(A,x)\n",
    "print(b)\n",
    "print(A %*% x)\n",
    "\n",
    "    \n",
    "# end of your code\n",
    "###################"
   ]
  },
  {
   "cell_type": "markdown",
   "metadata": {
    "collapsed": false
   },
   "source": [
    "## Part 3: Computational limits of nested for loops\n",
    "\n",
    "Using two nested for loops is a straightforward way to compute $A \\vec{x}$, but it turns out to be rather slow for high dimensional problems. Here, you will explore the limitations of the matrix vector multiplication function you just created in comparison to the built in R routines. For more discussion on this computational challenge, see https://en.wikipedia.org/wiki/Matrix_multiplication_algorithm."
   ]
  },
  {
   "cell_type": "code",
   "execution_count": 5,
   "metadata": {
    "collapsed": false
   },
   "outputs": [
    {
     "name": "stdout",
     "output_type": "stream",
     "text": [
      "[1]  7899  8280 12608  9098  8919\n"
     ]
    },
    {
     "name": "stdout",
     "output_type": "stream",
     "text": [
      "Time difference of 0.008626938 secs\n"
     ]
    },
    {
     "name": "stdout",
     "output_type": "stream",
     "text": [
      "      [,1]\n",
      "[1,]  7899\n",
      "[2,]  8280\n",
      "[3,] 12608\n",
      "[4,]  9098\n",
      "[5,]  8919\n"
     ]
    },
    {
     "name": "stdout",
     "output_type": "stream",
     "text": [
      "Time difference of 0.006015301 secs\n"
     ]
    },
    {
     "data": {
      "image/png": "[encoded data removed]",
      "text/plain": [
       "plot without title"
      ]
     },
     "execution_count": 5,
     "metadata": {
      "image/png": {
       "height": 420,
       "width": 420
      }
     },
     "output_type": "execute_result"
    }
   ],
   "source": [
    "##################\n",
    "# EXERCISE CELL\n",
    "##################\n",
    "\n",
    "n <- 5 # square matrix A dimension, vector x dimension\n",
    "A <- matrix(sample(1:100,n^2,replace=TRUE),ncol=n) # random matrix A\n",
    "x <- sample(1:100,n,replace=TRUE) # random vector x\n",
    "\n",
    "start_time <- Sys.time()\n",
    "print(matrixVecMultFun(A,x)) # compute b = Ax using your function\n",
    "end_time <- Sys.time()\n",
    "print(end_time - start_time) # compute elapsed compute time\n",
    "\n",
    "\n",
    "start_time <- Sys.time()\n",
    "print(A %*% x) # compute b = Ax using the built in R routine\n",
    "end_time <- Sys.time()\n",
    "print(end_time - start_time) # compute elapsed compute time\n",
    "\n",
    "\n",
    "# Instruction:\n",
    "# create your own experiment by increasing dimension n and comparing these two matrix vector multiplication methods\n",
    "# you should at least consider n=10,100,1000,10000,etc or something simlar for dimensions\n",
    "# generating a plot might be a nice approach\n",
    "###################\n",
    "# beginning of your code\n",
    "\n",
    "dims <- seq(500,2000,by=500) # dimensions to iterate over\n",
    "\n",
    "#compute times\n",
    "myFunTime <- rep(0,length(dims))\n",
    "builtInTime <- rep(0,length(dims))\n",
    "\n",
    "for (i in c(1:length(dims))){\n",
    "    n <- dims[i]\n",
    "    \n",
    "    A <- matrix(sample(1:100,n^2,replace=TRUE),ncol=n) # random matrix A\n",
    "    x <- sample(1:100,n,replace=TRUE) # random vector x\n",
    "\n",
    "    start_time <- Sys.time()\n",
    "    b <- matrixVecMultFun(A,x) # compute b = Ax using your function\n",
    "    end_time <- Sys.time()\n",
    "    myFunTime[i] <- end_time - start_time # compute elapsed compute time\n",
    "\n",
    "    start_time <- Sys.time()\n",
    "    b <- A %*% x # compute b = Ax using the built in R routine\n",
    "    end_time <- Sys.time()\n",
    "    builtInTime[i] <-end_time - start_time\n",
    "}\n",
    "\n",
    "plot(dims,myFunTime, type='l', col='red', ylim=c(0,max(myFunTime)))\n",
    "lines(dims,builtInTime, col='green')\n",
    "legend('topleft',legend=c(\"myFunction\",\"builtInFunction\"), cex=.8, lty=1,col=c('red','green'))\n",
    "    \n",
    "# end of your code\n",
    "###################"
   ]
  },
  {
   "cell_type": "code",
   "execution_count": 0,
   "metadata": {
    "collapsed": false
   },
   "outputs": [
   ],
   "source": [
   ]
  }
 ],
 "metadata": {
  "kernelspec": {
   "display_name": "R (system-wide)",
   "language": "r",
   "metadata": {
    "cocalc": {
     "description": "R statistical programming language",
     "priority": 10,
     "url": "https://www.r-project.org/"
    }
   },
   "name": "ir",
   "resource_dir": "/ext/jupyter/kernels/ir"
  },
  "language_info": {
   "codemirror_mode": "r",
   "file_extension": ".r",
   "mimetype": "text/x-r-source",
   "name": "R",
   "pygments_lexer": "r",
   "version": "4.1.2"
  }
 },
 "nbformat": 4,
 "nbformat_minor": 4
}