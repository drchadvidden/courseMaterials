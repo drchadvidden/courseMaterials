{
  "cells": [
    {
      "cell_type": "markdown",
      "metadata": {
        "id": "view-in-github",
        "colab_type": "text"
      },
      "source": [
        "<a href=\"https://colab.research.google.com/github/drchadvidden/courseMaterials/blob/main/AppliedLinearAlgebra/LabNotebooks/Lab_6.ipynb\" target=\"_parent\"><img src=\"https://colab.research.google.com/assets/colab-badge.svg\" alt=\"Open In Colab\"/></a>"
      ]
    },
    {
      "cell_type": "markdown",
      "metadata": {
        "collapsed": false,
        "id": "xknzA9Y8wELQ"
      },
      "source": [
        "# Lab 6: The Leontief Input-Output Model\n",
        "\n",
        "MTH 308: Applied Linear Algebra <br>\n",
        "\n",
        "Lab parts:\n",
        "\n",
        "- Part 1: Basic Leontief input-output model example, Exercise 1\n",
        "- Part 2: Efficient calculation of production vector, Exercise 2\n",
        "- Part 3: Large scale example, Exercise 3\n",
        "\n"
      ]
    },
    {
      "cell_type": "markdown",
      "metadata": {
        "collapsed": false,
        "id": "9ZPdbrMkwELW"
      },
      "source": [
        "## Instructions\n",
        "\n",
        "Run each of the coding cells. For example cells, understand the commands and check that the outputs make sense. For exercise cells, write your own code where indicated to generate the correct output.\n",
        "\n",
        "<u>Submission:</u> Complete the following notebook in order. Once done, print the notebook and save as an HTML file. Upload your submission to the Canvas course page.\n",
        "\n",
        "<u>Rubric:</u> 15 total points, 3 points to running example cells and saving outputs, 4 points per exercise block with correct output saved.\n",
        "\n",
        "<u>Deadline:</u> Wednesday at midnight after the lab is assigned."
      ]
    },
    {
      "cell_type": "markdown",
      "metadata": {
        "collapsed": false,
        "id": "UxmxJzKjwELX"
      },
      "source": [
        "## Part 1: Introduction to Leontief Input-Output Model, Exercise 1\n",
        "\n",
        "Here we implement a famous linear model from economics: https://en.wikipedia.org/wiki/Input%E2%80%93output_model"
      ]
    },
    {
      "cell_type": "markdown",
      "metadata": {
        "collapsed": false,
        "id": "nkb4b2IcwELY"
      },
      "source": [
        "#### Model explanation\n",
        "\n",
        "Define the *production vector* $\\vec{x}$ in $\\mathbb{R}^n$ as the amount of goods or services produced by $n$ sectors of a nation's economy. Then, balancing production with demand, we have\n",
        "$$\n",
        "\\vec{x} = C\\vec{x} + \\vec{d}\n",
        "$$\n",
        "where $\\vec{d}$ is the *final demand* by consumer sectors (people, government, education, etc) and $C\\vec{x}$ computes the *intermediate demand* consumed by producing sectors. Below is a depiction of this idea.\n",
        "\n",
        "<img src=\"attachment:image1.png\" width=\"40%\">\n",
        "\n",
        "Solving this system by hand, we get\n",
        "$$\n",
        "\\vec{x} = C\\vec{x} + \\vec{d} \\quad \\rightarrow \\quad\n",
        "I\\vec{x} - C\\vec{x} = \\vec{d} \\quad \\rightarrow \\quad\n",
        "(I-C)\\vec{x} = \\vec{d} \\quad \\rightarrow \\quad\n",
        "\\vec{x} = (I-C)^{-1}\\vec{d}\n",
        "$$\n",
        "assuming $(I-C)$ is invertible."
      ]
    },
    {
      "cell_type": "markdown",
      "metadata": {
        "collapsed": false,
        "id": "NaDjjKnHwELZ"
      },
      "source": [
        "#### Exercise 1: Mini-economy\n",
        "\n",
        "Consider an economy of 3 sectors with *intermediate demand* found historically to be\n",
        "\n",
        "<img src=\"attachment:image2.png\" width=\"40%\">\n",
        "\n",
        "and *final demand* as 50 units manufacturing, 30 units agriculture, and 20 units services. Use the coding block below to find the *production vector* $\\vec{x}$ which will satisfy this demand.\n"
      ]
    },
    {
      "cell_type": "code",
      "execution_count": null,
      "metadata": {
        "id": "nQpIxh4fwELZ"
      },
      "outputs": [],
      "source": [
        "##################\n",
        "# EXERCISE CELL\n",
        "##################\n",
        "\n",
        "#install.packages(\"matlib\")\n",
        "library(matlib)\n",
        "\n",
        "##########################\n",
        "# beginning of your code\n",
        "\n",
        "# end of your code\n",
        "##########################"
      ]
    },
    {
      "cell_type": "markdown",
      "metadata": {
        "collapsed": false,
        "id": "qRGxGURnwELc"
      },
      "source": [
        "#### Solution explanation.\n",
        "\n",
        "Explain your findings from the above exercise cell coding block including a discussion of both the production vector and intermediate demands."
      ]
    },
    {
      "cell_type": "markdown",
      "metadata": {
        "collapsed": false,
        "id": "fDjxY6YBwELd"
      },
      "source": [
        "## Part 2: Efficient production vector calculation, Exercise 2\n",
        "\n",
        "There is an alternate approach to computing production vector $\\vec{x}$ without needing to find the inverse of a matrix. For large enough systems, this can be more efficient computationally. Read the below explanation from the textbook.\n",
        "<br />\n",
        "<br />\n",
        "<img src=\"attachment:image3.png\" width=\"60%\">\n",
        "<br />\n",
        "<img src=\"attachment:image4.png\" width=\"60%\">\n",
        "<br />\n",
        "<br />\n",
        "Note, equation 8 resembles the formula of a geometric series from Calculus 2 (https://en.wikipedia.org/wiki/Geometric_series)."
      ]
    },
    {
      "cell_type": "markdown",
      "metadata": {
        "collapsed": false,
        "id": "GEyZATxawELe"
      },
      "source": [
        "#### Exercise 2: Efficient production vector calculation\n",
        "\n",
        "Use the below coding block to find the production vector from Exercise 1 using formula (6) from the textbook explanation above. Note, this is an approximate approach and you will need to create a rule for your calculation to stop."
      ]
    },
    {
      "cell_type": "code",
      "execution_count": null,
      "metadata": {
        "id": "o2TlvnAbwELe"
      },
      "outputs": [],
      "source": [
        "##################\n",
        "# EXERCISE CELL\n",
        "##################\n",
        "\n",
        "##########################\n",
        "# beginning of your code\n",
        "\n",
        "# end of your code\n",
        "##########################\n"
      ]
    },
    {
      "cell_type": "markdown",
      "metadata": {
        "collapsed": false,
        "id": "U_2XQqdAwELf"
      },
      "source": [
        "#### Solution explanation.\n",
        "\n",
        "Explain your findings in the above coding block here."
      ]
    },
    {
      "cell_type": "markdown",
      "metadata": {
        "collapsed": false,
        "id": "x4Q13EM5wELf"
      },
      "source": [
        "## Part 3: Large scale example, Exercise 3\n",
        "\n",
        "Here you will explore a larger scale example."
      ]
    },
    {
      "cell_type": "markdown",
      "metadata": {
        "collapsed": false,
        "id": "VQR4kKshwELf"
      },
      "source": [
        "#### Exercise 3: Large scale example\n",
        "\n",
        "Solve the following two textbook exercises.\n",
        "<br />\n",
        "<br />\n",
        "<img src=\"attachment:image5.png\" width=\"40%\">\n",
        "<br />\n",
        "<br />\n",
        "<img src=\"attachment:image6.png\" width=\"40%\">"
      ]
    },
    {
      "cell_type": "code",
      "execution_count": null,
      "metadata": {
        "id": "zgJV-kndwELf"
      },
      "outputs": [],
      "source": [
        "##################\n",
        "# EXERCISE CELL FOR PROBLEM 13\n",
        "##################\n",
        "\n",
        "C <- matrix(c(.1588,.0064,.0025,.0304,.0014,.0083,.1594,\n",
        ".0057,.2645,.0436,.0099,.0083,.0201,.3413,\n",
        ".0264,.1506,.3557,.0139,.0142,.0070,.0236,\n",
        ".3299,.0565,.0495,.3636,.0204,.0483,.0649,\n",
        ".0089,.0081,.0333,.0295,.3412,.0237,.0020,\n",
        ".1190,.0901,.0996,.1260,.1722,.2368,.3369,\n",
        ".0063,.0126,.0196,.0098,.0064,.0132,.0012), nrow=7, ncol=7, byrow=TRUE)\n",
        "\n",
        "d <- c(74000,56000,10500,25000,17500,196000,5000)\n",
        "\n",
        "##########################\n",
        "# beginning of your code\n",
        "\n",
        "\n",
        "# end of your code\n",
        "##########################"
      ]
    },
    {
      "cell_type": "code",
      "execution_count": null,
      "metadata": {
        "id": "D0cmzIv2wELg"
      },
      "outputs": [],
      "source": [
        "##################\n",
        "# EXERCISE CELL FOR PROBLEM 15\n",
        "##################\n",
        "\n",
        "##########################\n",
        "# beginning of your code\n",
        "\n",
        "\n",
        "# end of your code\n",
        "##########################"
      ]
    },
    {
      "cell_type": "markdown",
      "metadata": {
        "collapsed": false,
        "id": "27ZEiwrYwELg"
      },
      "source": [
        "#### Solution explanation.\n",
        "\n",
        "Explain your findings from the above coding blocks here.\n",
        "\n"
      ]
    },
    {
      "cell_type": "markdown",
      "metadata": {
        "collapsed": false,
        "id": "hiMWPWVbwELg"
      },
      "source": [
        "## Bonus:\n",
        "\n",
        "Find a cool application of linear algebra in this book: [LINK](https://perhuaman.files.wordpress.com/2014/06/linear-algebra-for-economists-fuad-aleskerov-2011.pdf)\n",
        "\n",
        "Summarize your findings and write code to perform a sweet calculation.\n",
        "\n"
      ]
    },
    {
      "cell_type": "code",
      "execution_count": null,
      "metadata": {
        "id": "iZlCr-uewELg"
      },
      "outputs": [],
      "source": []
    }
  ],
  "metadata": {
    "kernelspec": {
      "argv": [
        "/usr/bin/R",
        "-e",
        "IRkernel::main()",
        "--args",
        "{connection_file}"
      ],
      "display_name": "R (system-wide)",
      "env": {},
      "language": "r",
      "metadata": {
        "cocalc": {
          "description": "R statistical programming language",
          "priority": 10,
          "url": "https://www.r-project.org/"
        }
      },
      "name": "ir",
      "resource_dir": "/ext/jupyter/kernels/ir"
    },
    "language_info": {
      "codemirror_mode": "r",
      "file_extension": ".r",
      "mimetype": "text/x-r-source",
      "name": "R",
      "pygments_lexer": "r",
      "version": "4.1.2"
    },
    "colab": {
      "provenance": [],
      "include_colab_link": true
    }
  },
  "nbformat": 4,
  "nbformat_minor": 0
}