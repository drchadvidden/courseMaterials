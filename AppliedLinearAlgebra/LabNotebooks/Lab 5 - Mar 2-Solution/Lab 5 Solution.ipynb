{
 "cells": [
  {
   "cell_type": "markdown",
   "metadata": {
    "collapsed": false
   },
   "source": [
    "# Lab 5: Matrix multiplication, inverses, numerical instability\n",
    "     \n",
    "MTH 308: Applied Linear Algebra <br>\n",
    "Fall 2021\n",
    "\n",
    "Lab parts: \n",
    "- Part 1: Matrix multiplication via for loops, Exercise 1\n",
    "- Part 2: Matrix inverses by Gaussian Elimination, Exercise 2\n",
    "- Part 3: Machine error and numerical instability, Exercise 3"
   ]
  },
  {
   "cell_type": "markdown",
   "metadata": {
    "collapsed": false
   },
   "source": [
    "## Instructions\n",
    "\n",
    "Run each of the coding cells. For example cells, understand the commands and check that the outputs make sense. For exercise cells, write your own code where indicated to generate the correct output.\n",
    "\n",
    "<u>Submission:</u> Complete the following notebook in order. Once done, print the notebook and save as an HTML file. Upload your submission to the Canvas course page.\n",
    "\n",
    "<u>Rubric:</u> 15 total points, 3 points to running example cells and saving outputs, 4 points per exercise block with correct output saved.\n",
    "\n",
    "<u>Deadline:</u> Monday at midnight after the lab is assigned."
   ]
  },
  {
   "cell_type": "markdown",
   "metadata": {
    "collapsed": false
   },
   "source": [
    "## Part 1: Matrix multiplication via for loops, Exercise 1\n",
    "\n",
    "Here we code the calculation of $AB$ by\n",
    "- Building a custom function with nested for loops\n",
    "- Using built-in commands"
   ]
  },
  {
   "cell_type": "markdown",
   "metadata": {
    "collapsed": false
   },
   "source": [
    "#### Explanation\n",
    "\n",
    "Recall from class one of the methods for computing $AB=C$ as\n",
    "$$\n",
    "c_{ij} = \\sum_{k=1}^n a_{ik} b_{kj}\n",
    "$$\n",
    "where $c_{ij}$ is the entry in row $i$ and column $j$ of matrix $C$. Note we need dimension of $A$ as $(m \\times n)$ and dimension of $B$ as $(n \\times p)$ for this multiplication to be compatible and the resulting matrix $C$ ends up having dimentions $(m \\times p)$."
   ]
  },
  {
   "cell_type": "markdown",
   "metadata": {
    "collapsed": false
   },
   "source": [
    "#### Example\n",
    "\n",
    "The below matrices $A$ and $B$ are compatible for multiplying since the number of columns of $A$ matches the number of rows of $B$.\n",
    "$$\n",
    "A = \\left[\n",
    "\\begin{array}{ccc}\n",
    "3 & 1 & 4 \\\\\n",
    "1 & 5 & 9\n",
    "\\end{array}\n",
    "\\right], \\quad \n",
    "B = \\left[\n",
    "\\begin{array}{cc}\n",
    "2 & 7  \\\\\n",
    "1 & 8 \\\\\n",
    "2 & 8\n",
    "\\end{array}\n",
    "\\right]\n",
    "$$\n",
    "The resulting product $C=AB$ is of dimension $(2 \\times 2)$. If we want entry $c_{22}$ of $C$, we compute as\n",
    "$$\n",
    "c_{22} = a_{21}b_{12} + a_{22}b_{22} + a_{23}b_{32} = 1(7) + 5(8) + 9(8) = 119.\n",
    "$$"
   ]
  },
  {
   "cell_type": "markdown",
   "metadata": {
    "collapsed": false
   },
   "source": [
    "#### Exercise 1: Matrix multiplication\n",
    "\n",
    "For the above matrices $A$ and $B$, compute the product $C=AB$ by using nested for loops."
   ]
  },
  {
   "cell_type": "code",
   "execution_count": 1,
   "metadata": {
    "collapsed": false
   },
   "outputs": [
    {
     "name": "stderr",
     "output_type": "stream",
     "text": [
      "Warning message in rgl.init(initValue, onlyNULL):\n",
      "“RGL: unable to open X11 display”\n"
     ]
    },
    {
     "name": "stderr",
     "output_type": "stream",
     "text": [
      "Warning message:\n",
      "“'rgl.init' failed, running with 'rgl.useNULL = TRUE'.”\n"
     ]
    },
    {
     "name": "stdout",
     "output_type": "stream",
     "text": [
      "[1] \"Your calculuation:\"\n"
     ]
    },
    {
     "name": "stdout",
     "output_type": "stream",
     "text": [
      "     [,1] [,2]\n",
      "[1,]   15   61\n",
      "[2,]   25  119\n"
     ]
    },
    {
     "name": "stdout",
     "output_type": "stream",
     "text": [
      "[1] \"R routine check of work:\"\n"
     ]
    },
    {
     "name": "stdout",
     "output_type": "stream",
     "text": [
      "     [,1] [,2]\n",
      "[1,]   15   61\n",
      "[2,]   25  119\n"
     ]
    }
   ],
   "source": [
    "##################\n",
    "# EXERCISE CELL\n",
    "##################\n",
    "\n",
    "library(matlib)\n",
    "\n",
    "# given matrices A and B\n",
    "A <- matrix(c(3, 1, 4,\n",
    "              1, 5, 9), nrow=2, ncol=3, byrow=TRUE)\n",
    "B <- matrix(c(2, 7,\n",
    "              1, 8,\n",
    "              2, 8), nrow=3, ncol=2, byrow=TRUE)\n",
    "\n",
    "# resulting produce C\n",
    "C <- matrix(0, nrow=2, ncol=2, byrow=TRUE)\n",
    "\n",
    "# nested for loop to compute C=AB\n",
    "for (i in c(1:2)){\n",
    "    for (j in c(1:2)){\n",
    "        C[i,j] <- 0\n",
    "        for (k in c(1:3)){\n",
    "            ##########################\n",
    "            # beginning of your code\n",
    "            \n",
    "            C[i,j] <- C[i,j] + A[i,k]*B[k,j]\n",
    "            \n",
    "            # end of your code\n",
    "            ##########################\n",
    "        }\n",
    "    }\n",
    "}\n",
    "\n",
    "print(\"Your calculuation:\")\n",
    "print(C)\n",
    "print(\"R routine check of work:\")\n",
    "print(A %*% B)"
   ]
  },
  {
   "cell_type": "markdown",
   "metadata": {
    "collapsed": false
   },
   "source": [
    "Create a general function which has inputs of matrices $A$ and $B$ and outputs new matrix $C$ where $C=AB$. This function should produce an error message if $A$ and $B$ are not compatible. Test your functions for $A$ and $B$ above as well as 2 random examples by comparing to the built in $A \\%*\\% B$ command."
   ]
  },
  {
   "cell_type": "code",
   "execution_count": 2,
   "metadata": {
    "collapsed": false
   },
   "outputs": [
    {
     "name": "stdout",
     "output_type": "stream",
     "text": [
      "[1] \"EXAMPLE 1\"\n"
     ]
    },
    {
     "name": "stdout",
     "output_type": "stream",
     "text": [
      "[1] \"My calculuation:\"\n"
     ]
    },
    {
     "name": "stdout",
     "output_type": "stream",
     "text": [
      "     [,1] [,2]\n",
      "[1,]   15   61\n",
      "[2,]   25  119\n"
     ]
    },
    {
     "name": "stdout",
     "output_type": "stream",
     "text": [
      "[1] \"R routine check of work:\"\n"
     ]
    },
    {
     "name": "stdout",
     "output_type": "stream",
     "text": [
      "     [,1] [,2]\n",
      "[1,]   15   61\n",
      "[2,]   25  119\n"
     ]
    },
    {
     "name": "stdout",
     "output_type": "stream",
     "text": [
      "[1] \"EXAMPLE 2\"\n"
     ]
    },
    {
     "name": "stdout",
     "output_type": "stream",
     "text": [
      "[1] \"My calculuation:\"\n"
     ]
    },
    {
     "name": "stdout",
     "output_type": "stream",
     "text": [
      "      [,1]  [,2] [,3]  [,4]  [,5]\n",
      "[1,] 11348  6242 4294 13044  6173\n",
      "[2,]  9898  9427 4847 13961  9182\n",
      "[3,]  5092  6478 2448  7762  6015\n",
      "[4,] 13045 13780 6170 19176 12349\n"
     ]
    },
    {
     "name": "stdout",
     "output_type": "stream",
     "text": [
      "[1] \"R routine check of work:\"\n"
     ]
    },
    {
     "name": "stdout",
     "output_type": "stream",
     "text": [
      "      [,1]  [,2] [,3]  [,4]  [,5]\n",
      "[1,] 11348  6242 4294 13044  6173\n",
      "[2,]  9898  9427 4847 13961  9182\n",
      "[3,]  5092  6478 2448  7762  6015\n",
      "[4,] 13045 13780 6170 19176 12349\n"
     ]
    },
    {
     "name": "stdout",
     "output_type": "stream",
     "text": [
      "[1] \"EXAMPLE 3, incompatible dimensions\"\n"
     ]
    },
    {
     "name": "stdout",
     "output_type": "stream",
     "text": [
      "[1] \"My calculuation:\"\n"
     ]
    },
    {
     "name": "stdout",
     "output_type": "stream",
     "text": [
      "[1] \"ERROR: Matrix multiplication not compatible! You are crazy.\"\n"
     ]
    },
    {
     "name": "stdout",
     "output_type": "stream",
     "text": [
      "[1] \"R routine check of work:\"\n"
     ]
    },
    {
     "ename": "ERROR",
     "evalue": "Error in A %*% B: non-conformable arguments\n",
     "output_type": "error",
     "traceback": [
      "Error in A %*% B: non-conformable arguments\nTraceback:\n",
      "1. print(A %*% B)"
     ]
    }
   ],
   "source": [
    "##################\n",
    "# EXERCISE CELL\n",
    "##################\n",
    "\n",
    "##########################\n",
    "# beginning of your code\n",
    "\n",
    "matmult <- function(A,B){\n",
    "    \n",
    "    if (ncol(A) != nrow(B)){\n",
    "        return(\"ERROR: Matrix multiplication not compatible! You are crazy.\")\n",
    "    }\n",
    "\n",
    "    # resulting product C\n",
    "    C <- matrix(0, nrow=nrow(A), ncol=ncol(B), byrow=TRUE)\n",
    "\n",
    "    # nested for loop to compute C=AB\n",
    "    for (i in c(1:nrow(A))){\n",
    "        for (j in c(1:ncol(B))){\n",
    "            C[i,j] <- 0\n",
    "            for (k in c(1:ncol(A))){\n",
    "                ##########################\n",
    "                # beginning of your code\n",
    "\n",
    "                C[i,j] <- C[i,j] + A[i,k]*B[k,j]\n",
    "\n",
    "                # end of your code\n",
    "                ##########################\n",
    "            }\n",
    "        }\n",
    "    }\n",
    "    return(C)\n",
    "}\n",
    "\n",
    "# example 1\n",
    "# given matrices A and B\n",
    "A <- matrix(c(3, 1, 4,\n",
    "              1, 5, 9), nrow=2, ncol=3, byrow=TRUE)\n",
    "B <- matrix(c(2, 7,\n",
    "              1, 8,\n",
    "              2, 8), nrow=3, ncol=2, byrow=TRUE)\n",
    "\n",
    "print(\"EXAMPLE 1\")\n",
    "print(\"My calculuation:\")\n",
    "print(matmult(A,B))\n",
    "print(\"R routine check of work:\")\n",
    "print(A %*% B)\n",
    "\n",
    "\n",
    "# example 2\n",
    "# given matrices A and B\n",
    "A <- matrix(sample.int(100, size = 4*4, replace = TRUE), nrow = 4, ncol = 4)\n",
    "B <- matrix(sample.int(100, size = 4*5, replace = TRUE), nrow = 4, ncol = 5)\n",
    "\n",
    "print(\"EXAMPLE 2\")\n",
    "print(\"My calculuation:\")\n",
    "print(matmult(A,B))\n",
    "print(\"R routine check of work:\")\n",
    "print(A %*% B)\n",
    "\n",
    "\n",
    "# example 2\n",
    "# given matrices A and B\n",
    "A <- matrix(sample.int(100, size = 4*5, replace = TRUE), nrow = 4, ncol = 5)\n",
    "B <- matrix(sample.int(100, size = 4*5, replace = TRUE), nrow = 4, ncol = 5)\n",
    "\n",
    "print(\"EXAMPLE 3, incompatible dimensions\")\n",
    "print(\"My calculuation:\")\n",
    "print(matmult(A,B))\n",
    "print(\"R routine check of work:\")\n",
    "print(A %*% B)\n",
    "\n",
    "# end of your code\n",
    "##########################\n"
   ]
  },
  {
   "cell_type": "markdown",
   "metadata": {
    "collapsed": false
   },
   "source": [
    "## Part 2: Matrix inverses by Gaussian Elimination, Exercise 2\n",
    "\n",
    "Here we compute the inverse of a matrix by solving a set of linear systems. "
   ]
  },
  {
   "cell_type": "markdown",
   "metadata": {
    "collapsed": false
   },
   "source": [
    "#### Explanation\n",
    "\n",
    "Recall the inverse of square matrix $A$, written $A^{-1}$, is defined as the matrix such that\n",
    "$$\n",
    "A A^{-1} = A^{-1} A = I.\n",
    "$$\n",
    "We can compute the $i$th column of $A^{-1}$ by solving the linear system\n",
    "$$\n",
    "A \\vec{x} = \\vec{e}_i\n",
    "$$\n",
    "for $\\vec{e}_i$ the $i$th unit basis vector."
   ]
  },
  {
   "cell_type": "markdown",
   "metadata": {
    "collapsed": false
   },
   "source": [
    "#### Example\n",
    "\n",
    "For $(2\\times 2)$ matrix\n",
    "$$\n",
    "A = \\left[\n",
    "\\begin{array}{cc}\n",
    "1 & 2 \\\\\n",
    "3 & 4\n",
    "\\end{array}\n",
    "\\right]\n",
    "$$\n",
    "we need to solve\n",
    "$$\n",
    "\\left[\n",
    "\\begin{array}{cc}\n",
    "1 & 2 \\\\\n",
    "3 & 4\n",
    "\\end{array}\n",
    "\\right] \\vec{x} = \\left[\n",
    "\\begin{array}{c}\n",
    "1 \\\\ 0\n",
    "\\end{array}\n",
    "\\right], \\quad \\text{and} \\quad \\left[\n",
    "\\begin{array}{cc}\n",
    "1 & 2 \\\\\n",
    "3 & 4\n",
    "\\end{array}\n",
    "\\right] \\vec{x} = \\left[\n",
    "\\begin{array}{c}\n",
    "0 \\\\ 1\n",
    "\\end{array} \\right]\n",
    "$$\n",
    "as is done in the below code."
   ]
  },
  {
   "cell_type": "code",
   "execution_count": 3,
   "metadata": {
    "collapsed": false
   },
   "outputs": [
    {
     "name": "stdout",
     "output_type": "stream",
     "text": [
      "[1] \"Computed A inverse\"\n"
     ]
    },
    {
     "name": "stdout",
     "output_type": "stream",
     "text": [
      "     [,1] [,2]\n",
      "[1,] -2.0  1.0\n",
      "[2,]  1.5 -0.5\n"
     ]
    },
    {
     "name": "stdout",
     "output_type": "stream",
     "text": [
      "[1] \"Check the product A^{-1} * A\"\n"
     ]
    },
    {
     "name": "stdout",
     "output_type": "stream",
     "text": [
      "              [,1]         [,2]\n",
      "[1,]  1.000000e+00 4.440892e-16\n",
      "[2,] -5.551115e-17 1.000000e+00\n"
     ]
    },
    {
     "name": "stdout",
     "output_type": "stream",
     "text": [
      "[1] \"Check the product A * A^{-1}\"\n"
     ]
    },
    {
     "name": "stdout",
     "output_type": "stream",
     "text": [
      "     [,1]         [,2]\n",
      "[1,]    1 1.110223e-16\n",
      "[2,]    0 1.000000e+00\n"
     ]
    },
    {
     "name": "stdout",
     "output_type": "stream",
     "text": [
      "[1] \"Package inverse function\"\n"
     ]
    },
    {
     "name": "stdout",
     "output_type": "stream",
     "text": [
      "     [,1] [,2]\n",
      "[1,] -2.0  1.0\n",
      "[2,]  1.5 -0.5\n"
     ]
    }
   ],
   "source": [
    "##################\n",
    "# EXAMPLE CELL\n",
    "# you do not need to code anything here\n",
    "##################\n",
    "\n",
    "A <- matrix(c(1, 2,\n",
    "              3, 4), nrow=2, ncol=2, byrow=TRUE)\n",
    "Ainv <- matrix(0, nrow=2, ncol=2) # inverse matrix to compute\n",
    "\n",
    "# compute the first column of A^{-1}\n",
    "e1 <- rep(0,2)\n",
    "e1[1] <- 1\n",
    "x <- solve(A,e1)\n",
    "Ainv[,1] <- x\n",
    "\n",
    "# compute the second column of A^{-1}\n",
    "e2 <- rep(0,2)\n",
    "e2[2] <- 1\n",
    "x <- solve(A,e2)\n",
    "Ainv[,2] <- x\n",
    "\n",
    "print(\"Computed A inverse\")\n",
    "print(Ainv) \n",
    "print(\"Check the product A^{-1} * A\")\n",
    "print(Ainv %*% A) # note there is computer roundoff error here since out machine can only get ~15 digits accuracy\n",
    "print(\"Check the product A * A^{-1}\")\n",
    "print(A %*% Ainv) # check that we get the identity matrix\n",
    "print(\"Package inverse function\")\n",
    "print(inv(A)) # check via matlib package function"
   ]
  },
  {
   "cell_type": "markdown",
   "metadata": {
    "collapsed": false
   },
   "source": [
    "#### Exercise 2: Matrix inverses\n",
    "\n",
    "Write a general function which takes a matrix $A$ as input and returns the inverse of $A$ as a result. Your function should check if the matrix is square and return an error if it isn't. Test your function for matrix $A$ above as well as 2 random examples. "
   ]
  },
  {
   "cell_type": "code",
   "execution_count": 4,
   "metadata": {
    "collapsed": false
   },
   "outputs": [
    {
     "name": "stdout",
     "output_type": "stream",
     "text": [
      "[1] \"EXAMPLE 1\"\n"
     ]
    },
    {
     "name": "stdout",
     "output_type": "stream",
     "text": [
      "[1] \"Computed A inverse\"\n"
     ]
    },
    {
     "name": "stdout",
     "output_type": "stream",
     "text": [
      "     [,1] [,2]\n",
      "[1,] -2.0  1.0\n",
      "[2,]  1.5 -0.5\n"
     ]
    },
    {
     "name": "stdout",
     "output_type": "stream",
     "text": [
      "[1] \"Check the product A^{-1} * A\"\n"
     ]
    },
    {
     "name": "stdout",
     "output_type": "stream",
     "text": [
      "              [,1]         [,2]\n",
      "[1,]  1.000000e+00 4.440892e-16\n",
      "[2,] -5.551115e-17 1.000000e+00\n"
     ]
    },
    {
     "name": "stdout",
     "output_type": "stream",
     "text": [
      "[1] \"Check the product A * A^{-1}\"\n"
     ]
    },
    {
     "name": "stdout",
     "output_type": "stream",
     "text": [
      "     [,1]         [,2]\n",
      "[1,]    1 1.110223e-16\n",
      "[2,]    0 1.000000e+00\n"
     ]
    },
    {
     "name": "stdout",
     "output_type": "stream",
     "text": [
      "[1] \"Package inverse function\"\n"
     ]
    },
    {
     "name": "stdout",
     "output_type": "stream",
     "text": [
      "     [,1] [,2]\n",
      "[1,] -2.0  1.0\n",
      "[2,]  1.5 -0.5\n"
     ]
    },
    {
     "name": "stdout",
     "output_type": "stream",
     "text": [
      "[1] \"EXAMPLE 2\"\n"
     ]
    },
    {
     "name": "stdout",
     "output_type": "stream",
     "text": [
      "[1] \"Computed A inverse\"\n"
     ]
    },
    {
     "name": "stdout",
     "output_type": "stream",
     "text": [
      "             [,1]         [,2]         [,3]          [,4]        [,5]\n",
      "[1,]  0.016441842  0.005770571  0.004744577 -0.0007637415 -0.01330415\n",
      "[2,]  0.018651872  0.097403269 -0.007193404  0.0439627690 -0.11176754\n",
      "[3,] -0.016894026  0.025310470  0.012497613  0.0347432218 -0.03937619\n",
      "[4,] -0.002906376 -0.029035002 -0.003209635 -0.0080188094  0.03773045\n",
      "[5,] -0.011232653 -0.087180448 -0.002661739 -0.0627895893  0.11999782\n"
     ]
    },
    {
     "name": "stdout",
     "output_type": "stream",
     "text": [
      "[1] \"Check the product A^{-1} * A\"\n"
     ]
    },
    {
     "name": "stdout",
     "output_type": "stream",
     "text": [
      "              [,1]          [,2]         [,3]          [,4]          [,5]\n",
      "[1,]  1.000000e+00  6.765422e-16 1.106754e-15  1.887379e-15  7.424616e-16\n",
      "[2,]  8.326673e-16  1.000000e+00 7.632783e-16 -1.332268e-15  1.859624e-15\n",
      "[3,] -2.498002e-16 -1.422473e-15 1.000000e+00 -1.554312e-15 -9.575674e-16\n",
      "[4,] -3.885781e-16 -9.714451e-17 1.804112e-16  1.000000e+00  2.775558e-17\n",
      "[5,]  2.220446e-16  7.216450e-16 9.436896e-16  0.000000e+00  1.000000e+00\n"
     ]
    },
    {
     "name": "stdout",
     "output_type": "stream",
     "text": [
      "[1] \"Check the product A * A^{-1}\"\n"
     ]
    },
    {
     "name": "stdout",
     "output_type": "stream",
     "text": [
      "              [,1]          [,2]          [,3]          [,4]          [,5]\n",
      "[1,]  1.000000e+00 -2.081668e-16  1.595946e-16  6.800116e-16  6.106227e-16\n",
      "[2,] -2.636780e-16  1.000000e+00  6.245005e-17 -5.134781e-16  1.609823e-15\n",
      "[3,] -8.326673e-17 -2.498002e-16  1.000000e+00  1.942890e-16  1.110223e-16\n",
      "[4,] -1.387779e-17  2.775558e-16 -1.214306e-17  1.000000e+00 -2.220446e-16\n",
      "[5,]  1.387779e-16  9.714451e-16 -9.714451e-17 -3.608225e-16  1.000000e+00\n"
     ]
    },
    {
     "name": "stdout",
     "output_type": "stream",
     "text": [
      "[1] \"Package inverse function\"\n"
     ]
    },
    {
     "name": "stdout",
     "output_type": "stream",
     "text": [
      "            [,1]        [,2]        [,3]        [,4]        [,5]\n",
      "[1,]  0.01644184  0.00577057  0.00474458 -0.00076374 -0.01330415\n",
      "[2,]  0.01865187  0.09740327 -0.00719340  0.04396277 -0.11176754\n",
      "[3,] -0.01689403  0.02531047  0.01249761  0.03474322 -0.03937619\n",
      "[4,] -0.00290638 -0.02903500 -0.00320964 -0.00801881  0.03773045\n",
      "[5,] -0.01123265 -0.08718045 -0.00266174 -0.06278959  0.11999782\n"
     ]
    },
    {
     "name": "stdout",
     "output_type": "stream",
     "text": [
      "[1] \"EXAMPLE 3: Not a square matrix\"\n"
     ]
    },
    {
     "name": "stdout",
     "output_type": "stream",
     "text": [
      "[1] \"Computed A inverse\"\n"
     ]
    },
    {
     "name": "stdout",
     "output_type": "stream",
     "text": [
      "[1] \"Package inverse function\"\n"
     ]
    },
    {
     "ename": "ERROR",
     "evalue": "Error in Inverse(X, tol = sqrt(.Machine$double.eps), ...): X must be a square numeric matrix\n",
     "output_type": "error",
     "traceback": [
      "Error in Inverse(X, tol = sqrt(.Machine$double.eps), ...): X must be a square numeric matrix\nTraceback:\n",
      "1. print(inv(A))",
      "2. inv(A)",
      "3. Inverse(X, tol = sqrt(.Machine$double.eps), ...)",
      "4. stop(\"X must be a square numeric matrix\")"
     ]
    }
   ],
   "source": [
    "##################\n",
    "# EXERCISE CELL\n",
    "##################\n",
    "\n",
    "##########################\n",
    "# beginning of your code\n",
    "\n",
    "\n",
    "invFunc <- function(A){\n",
    "    \n",
    "    if (nrow(A) != ncol(A)){\n",
    "        return(\"ERROR: Matrix must be square to be invertible. You are crazy!\")\n",
    "    }\n",
    "\n",
    "    Ainv <- matrix(0, nrow=nrow(A), ncol=ncol(A)) # inverse matrix to compute\n",
    "    ident <- diag(1, nrow(A))\n",
    "    \n",
    "    for (i in c(1:nrow(A))){\n",
    "        # compute the ith column of A^{-1}\n",
    "        ei <- ident[,i]\n",
    "        x <- solve(A,ei)\n",
    "        Ainv[,i] <- x\n",
    "    }\n",
    "    \n",
    "    return(Ainv)\n",
    "}\n",
    "\n",
    "\n",
    "\n",
    "# example 1\n",
    "A <- matrix(c(1, 2,\n",
    "              3, 4), nrow=2, ncol=2, byrow=TRUE)\n",
    "\n",
    "print(\"EXAMPLE 1\")\n",
    "print(\"Computed A inverse\")\n",
    "Ainv <- invFunc(A)\n",
    "print(Ainv) \n",
    "print(\"Check the product A^{-1} * A\")\n",
    "print(Ainv %*% A) # note there is computer roundoff error here since out machine can only get ~15 digits accuracy\n",
    "print(\"Check the product A * A^{-1}\")\n",
    "print(A %*% Ainv) # check that we get the identity matrix\n",
    "print(\"Package inverse function\")\n",
    "print(inv(A)) # check via matlib package function\n",
    "\n",
    "\n",
    "# example 2\n",
    "A <- matrix(sample.int(100, size = 5*5, replace = TRUE), nrow = 5, ncol = 5)\n",
    "\n",
    "print(\"EXAMPLE 2\")\n",
    "print(\"Computed A inverse\")\n",
    "Ainv <- invFunc(A)\n",
    "print(Ainv) \n",
    "print(\"Check the product A^{-1} * A\")\n",
    "print(Ainv %*% A) # note there is computer roundoff error here since out machine can only get ~15 digits accuracy\n",
    "print(\"Check the product A * A^{-1}\")\n",
    "print(A %*% Ainv) # check that we get the identity matrix\n",
    "print(\"Package inverse function\")\n",
    "print(inv(A)) # check via matlib package function\n",
    "\n",
    "\n",
    "# example 3\n",
    "A <- matrix(sample.int(100, size = 5*6, replace = TRUE), nrow = 5, ncol = 6)\n",
    "\n",
    "print(\"EXAMPLE 3: Not a square matrix\")\n",
    "print(\"Computed A inverse\")\n",
    "Ainv <- invFunc(A)\n",
    "print(\"Package inverse function\")\n",
    "print(inv(A)) # check via matlib package function\n",
    "\n",
    "# end of your code\n",
    "##########################\n"
   ]
  },
  {
   "cell_type": "markdown",
   "metadata": {
    "collapsed": false
   },
   "source": [
    "## Part 3: Machine error and numerical instability, Exercise 3\n",
    "\n",
    "Here you will explore machine roundoff error through the famous example of a Hilbert matrix."
   ]
  },
  {
   "attachments": {
    "capture5.png": {
     "image/png": "[encoded data removed]"
    }
   },
   "cell_type": "markdown",
   "metadata": {
    "collapsed": false
   },
   "source": [
    "#### Exercise 3: Hilbert Matrix\n",
    "\n",
    "See the following link for an definition of a Hilbert matrix: https://en.wikipedia.org/wiki/Hilbert_matrix\n",
    "\n",
    "Create a function which inputs a positive integer $n$ and outputs the $(n\\times n)$ Hilbert matrix $H$."
   ]
  },
  {
   "cell_type": "code",
   "execution_count": 5,
   "metadata": {
    "collapsed": false
   },
   "outputs": [
    {
     "name": "stdout",
     "output_type": "stream",
     "text": [
      "          [,1]      [,2]      [,3]      [,4]      [,5]\n",
      "[1,] 1.0000000 0.5000000 0.3333333 0.2500000 0.2000000\n",
      "[2,] 0.5000000 0.3333333 0.2500000 0.2000000 0.1666667\n",
      "[3,] 0.3333333 0.2500000 0.2000000 0.1666667 0.1428571\n",
      "[4,] 0.2500000 0.2000000 0.1666667 0.1428571 0.1250000\n",
      "[5,] 0.2000000 0.1666667 0.1428571 0.1250000 0.1111111\n"
     ]
    }
   ],
   "source": [
    "##################\n",
    "# EXERCISE CELL\n",
    "##################\n",
    "\n",
    "##########################\n",
    "# beginning of your code\n",
    "\n",
    "hilbertMat <- function(n){\n",
    "    H <- matrix(0,nrow=n,ncol=n)\n",
    "    \n",
    "    for (i in c(1:n)){\n",
    "        for (j in c(1:n)){\n",
    "            H[i,j] <- 1/(i+j-1)\n",
    "        }\n",
    "    }\n",
    "    \n",
    "    return(H)\n",
    "}\n",
    "\n",
    "print(hilbertMat(5))\n",
    "\n",
    "# end of your code\n",
    "##########################"
   ]
  },
  {
   "cell_type": "markdown",
   "metadata": {
    "collapsed": false
   },
   "source": [
    "Using the above Hilbert matrix function, perform the following experiment for $n=5, 10, 20, 50$.\n",
    "- Solve the system $H\\vec{x}=\\vec{b}$ for $\\vec{x}$ where $\\vec{b}$ is a vector of all ones. Use the $solve(H,x,tol=1e-100)$ command from the $matlib$ library.\n",
    "- Verify your solution is correct by computing $H\\vec{x}$ using your above matrix multiplication function. Also check using the built in $\\% * \\%$ function.\n",
    "- Find the inverse of $H$ using your above matrix inverse function.\n",
    "- Verify your inverse function is correct by computing $H* H^{-1}$ using your above matrix multiplication function. Also check using the built in $\\% * \\%$ function. Also try out the $Inverse(H, tol=1e-100)$ function from the $matlib$ library."
   ]
  },
  {
   "cell_type": "code",
   "execution_count": 0,
   "metadata": {
    "collapsed": false
   },
   "outputs": [
   ],
   "source": [
   ]
  },
  {
   "cell_type": "code",
   "execution_count": 6,
   "metadata": {
    "collapsed": false
   },
   "outputs": [
    {
     "name": "stdout",
     "output_type": "stream",
     "text": [
      "[1] \"####################\"\n",
      "[1] \"n-value =  5\"\n",
      "[1] \"Solution check to Hx=b\"\n",
      "     [,1]\n",
      "[1,]    1\n",
      "[2,]    1\n",
      "[3,]    1\n",
      "[4,]    1\n",
      "[5,]    1\n",
      "[1] \"Inverse check\"\n",
      "             [,1]          [,2]         [,3]          [,4]         [,5]\n",
      "[1,] 1.000000e+00 -1.776979e-12 7.905454e-12 -3.162004e-12 4.127587e-12\n",
      "[2,] 2.732999e-14  1.000000e+00 5.538718e-12  1.422344e-12 3.836302e-12\n",
      "[3,] 4.372693e-14 -8.095746e-13 1.000000e+00 -3.399820e-13 3.028403e-12\n",
      "[4,] 1.421085e-14 -9.094947e-13 4.547474e-12  1.000000e+00 1.818989e-12\n",
      "[5,] 2.769390e-14 -5.791417e-13 3.692478e-12 -2.083420e-12 1.000000e+00\n",
      "[1] \"####################\"\n",
      "[1] \"n-value =  10\"\n",
      "[1] \"Solution check to Hx=b\"\n",
      "      [,1]\n",
      " [1,]    1\n",
      " [2,]    1\n",
      " [3,]    1\n",
      " [4,]    1\n",
      " [5,]    1\n",
      " [6,]    1\n",
      " [7,]    1\n",
      " [8,]    1\n",
      " [9,]    1\n",
      "[10,]    1\n",
      "[1] \"Inverse check\"\n",
      "               [,1]          [,2]          [,3]          [,4]          [,5]\n",
      " [1,]  1.000000e+00 -5.690801e-08  9.971664e-07 -1.607003e-05  6.343425e-05\n",
      " [2,]  2.728329e-10  1.000000e+00  2.581877e-07 -8.301580e-06  3.039431e-05\n",
      " [3,] -1.027917e-11 -5.662044e-09  9.999999e-01 -3.814186e-06  1.055746e-05\n",
      " [4,]  6.769613e-11  2.575814e-09 -7.429144e-08  9.999970e-01  1.563706e-05\n",
      " [5,] -6.286069e-11  4.326999e-09 -1.263425e-09 -2.383747e-06  1.000006e+00\n",
      " [6,] -7.627060e-11  7.622023e-09 -1.761285e-07 -2.050297e-06  3.255902e-06\n",
      " [7,] -8.731149e-11  1.117587e-08 -2.533197e-07 -1.430511e-06 -4.768372e-06\n",
      " [8,]  2.814585e-11 -6.786159e-11 -3.356859e-08 -2.790810e-06  3.209446e-06\n",
      " [9,] -4.080725e-11  5.538530e-09 -1.499943e-07 -1.152015e-06 -1.862651e-06\n",
      "[10,] -1.259710e-10  8.874285e-09 -2.495451e-07 -9.847221e-07 -2.417131e-06\n",
      "               [,6]          [,7]          [,8]         [,9]         [,10]\n",
      " [1,] -1.993597e-04  3.167530e-04 -3.366334e-04 1.941907e-04 -4.114017e-05\n",
      " [2,] -1.083044e-04  1.793513e-04 -2.015659e-04 1.031805e-04 -2.615608e-05\n",
      " [3,] -7.355707e-05  9.589225e-05 -8.059680e-05 6.896362e-05 -1.785072e-05\n",
      " [4,] -5.769273e-05  6.847354e-05 -9.491683e-05 5.577064e-05 -1.106893e-05\n",
      " [5,] -3.552861e-05  5.821526e-05 -5.600401e-05 3.976571e-05 -1.066849e-05\n",
      " [6,]  9.999716e-01  3.156721e-06 -2.908933e-05 2.867004e-05 -8.243148e-06\n",
      " [7,] -9.536743e-06  1.000000e+00 -1.525879e-05 1.716614e-05 -3.337860e-06\n",
      " [8,] -3.429809e-05  3.352731e-05  9.999485e-01 4.728771e-05 -6.880677e-06\n",
      " [9,] -1.979204e-05  1.052240e-05 -2.067049e-05 1.000019e+00 -5.542652e-06\n",
      "[10,] -1.041825e-05 -1.111263e-05 -1.034699e-05 1.103066e-05  9.999978e-01\n",
      "[1] \"####################\"\n",
      "[1] \"n-value =  20\"\n",
      "[1] \"Solution check to Hx=b\"\n",
      "      [,1]\n",
      " [1,]    1\n",
      " [2,]    1\n",
      " [3,]    1\n",
      " [4,]    1\n",
      " [5,]    1\n",
      " [6,]    1\n",
      " [7,]    1\n",
      " [8,]    1\n",
      " [9,]    1\n",
      "[10,]    1\n",
      "[11,]    1\n",
      "[12,]    1\n",
      "[13,]    1\n",
      "[14,]    1\n",
      "[15,]    1\n",
      "[16,]    1\n",
      "[17,]    1\n",
      "[18,]    1\n",
      "[19,]    1\n",
      "[20,]    1\n",
      "[1] \"Inverse check\"\n",
      "              [,1]         [,2]       [,3]       [,4]      [,5]       [,6]\n",
      " [1,] 1.000012e+00 -0.002101696 0.09088921 -1.6835807 17.063461 -108.97898\n",
      " [2,] 1.270470e-05  0.997746928 0.09557434 -1.7400302 17.294724 -107.72022\n",
      " [3,] 1.279728e-05 -0.002240994 1.09424992 -1.7025399 16.756199 -103.06471\n",
      " [4,] 1.245370e-05 -0.002165145 0.09067148 -0.6309642 15.970539  -97.47036\n",
      " [5,] 1.193816e-05 -0.002068251 0.08634373 -1.5500266 16.128146  -91.92130\n",
      " [6,] 1.138534e-05 -0.001966642 0.08200528 -1.4684913 14.307368  -85.61458\n",
      " [7,] 1.081208e-05 -0.001865585 0.07762575 -1.3894653 13.509533  -81.65964\n",
      " [8,] 1.029864e-05 -0.001773089 0.07376233 -1.3190042 12.816761  -77.24805\n",
      " [9,] 9.784871e-06 -0.001683128 0.07000729 -1.2511515 12.146046  -73.17951\n",
      "[10,] 9.313257e-06 -0.001601514 0.06655063 -1.1890289 11.539470  -69.41410\n",
      "[11,] 8.876016e-06 -0.001524711 0.06336335 -1.1319780 10.980573  -66.01182\n",
      "[12,] 8.471095e-06 -0.001454964 0.06045142 -1.0798109 10.469123  -62.92449\n",
      "[13,] 8.080387e-06 -0.001389921 0.05774212 -1.0306320  9.993958  -60.02917\n",
      "[14,] 7.741334e-06 -0.001330292 0.05519673 -0.9860830  9.557172  -57.42310\n",
      "[15,] 7.427893e-06 -0.001275037 0.05299910 -0.9456411  9.167298  -55.01288\n",
      "[16,] 7.130128e-06 -0.001224370 0.05082453 -0.9080019  8.801471  -52.81738\n",
      "[17,] 6.856744e-06 -0.001176893 0.04890567 -0.8729659  8.465385  -50.75037\n",
      "[18,] 6.599775e-06 -0.001134363 0.04709550 -0.8408702  8.151363  -48.88792\n",
      "[19,] 6.357788e-06 -0.001092467 0.04537118 -0.8101229  7.849307  -47.09038\n",
      "[20,] 6.141767e-06 -0.001055183 0.04384307 -0.7830690  7.586772  -45.46143\n",
      "          [,7]       [,8]     [,9]      [,10]     [,11]      [,12]    [,13]\n",
      " [1,] 500.7169 -1792.9577 5124.701 -11161.278 17171.663 -16958.360 9173.306\n",
      " [2,] 478.8222 -1658.7278 4636.540 -10009.628 15402.469 -15267.967 8297.021\n",
      " [3,] 450.1156 -1529.4509 4216.404  -9051.496 13923.995 -13832.277 7539.815\n",
      " [4,] 421.2099 -1413.4294 3859.562  -8249.075 12685.646 -12620.689 6895.688\n",
      " [5,] 394.0292 -1311.2228 3555.020  -7573.456 11641.676 -11592.783 6344.776\n",
      " [6,] 369.5414 -1221.5467 3293.648  -6997.258 10751.024 -10713.533 5871.242\n",
      " [7,] 348.1410 -1141.6910 3066.011  -6500.007  9983.736  -9953.575 5461.452\n",
      " [8,] 327.1801 -1070.8647 2867.809  -6067.259  9315.247  -9292.273 5103.801\n",
      " [9,] 309.2812 -1009.7724 2694.718  -5689.659  8731.946  -8712.912 4790.500\n",
      "[10,] 292.8614  -953.6816 2538.504  -5353.137  8214.267  -8198.684 4510.948\n",
      "[11,] 278.0683  -903.5774 2399.904  -5055.704  7755.035  -7741.232 4262.543\n",
      "[12,] 264.6965  -858.5573 2275.841  -4789.733  7343.244  -7331.216 4038.646\n",
      "[13,] 252.3496  -817.0469 2163.188  -4548.688  6972.125  -6963.188 3838.531\n",
      "[14,] 241.0185  -779.7798 2061.186  -4330.789  6636.913  -6628.852 3654.877\n",
      "[15,] 230.8344  -745.5715 1968.748  -4133.216  6332.215  -6325.164 3488.909\n",
      "[16,] 221.4091  -714.3613 1884.134  -3952.571  6054.229  -6048.201 3337.855\n",
      "[17,] 212.6624  -685.7813 1806.404  -3787.085  5799.763  -5794.564 3198.757\n",
      "[18,] 204.7212  -659.2157 1735.114  -3635.270  5565.666  -5561.125 3071.097\n",
      "[19,] 197.1622  -634.4820 1668.699  -3494.354  5349.092  -5345.133 2952.592\n",
      "[20,] 190.3091  -611.7251 1607.777  -3364.065  5149.313  -5145.667 2843.296\n",
      "           [,14]     [,15]     [,16]      [,17]     [,18]     [,19]     [,20]\n",
      " [1,] -1203.1605 -3861.520 11882.439 -20266.673 18400.811 -8496.478 1588.5386\n",
      " [2,] -1137.2324 -3324.199 10459.023 -18101.258 16572.852 -7691.703 1443.0770\n",
      " [3,] -1061.7089 -2928.929  9348.154 -16319.954 15015.698 -6990.461 1314.3230\n",
      " [4,]  -988.6560 -2623.918  8453.663 -14841.061 13699.479 -6390.000 1203.1534\n",
      " [5,]  -922.2253 -2379.275  7717.301 -13602.710 12583.511 -5878.216 1107.7764\n",
      " [6,]  -862.9401 -2178.031  7099.544 -12548.839 11627.443 -5436.812 1025.2655\n",
      " [7,]  -808.8079 -2010.777  6575.347 -11643.450 10800.917 -5053.887  953.6403\n",
      " [8,]  -760.7146 -1867.127  6122.143 -10858.437 10081.989 -4720.554  891.0469\n",
      " [9,]  -719.1440 -1743.227  5728.767 -10171.537  9450.795 -4426.824  835.8586\n",
      "[10,]  -680.1320 -1635.687  5383.763  -9564.841  8891.645 -4166.515  786.9382\n",
      "[11,]  -645.4873 -1539.393  5075.323  -9025.492  8394.615 -3934.556  743.3334\n",
      "[12,]  -613.3742 -1455.478  4803.004  -8544.987  7950.164 -3727.237  704.3633\n",
      "[13,]  -584.7324 -1380.562  4558.250  -8112.188  7549.250 -3539.781  668.8750\n",
      "[14,]  -556.8229 -1313.286  4337.186  -7720.719  7185.882 -3370.183  637.0018\n",
      "[15,]  -533.7090 -1250.479  4136.384  -7364.441  6855.844 -3215.678  607.8516\n",
      "[16,]  -512.3603 -1195.262  3953.636  -7039.342  6555.145 -3074.844  581.3696\n",
      "[17,]  -491.7967 -1144.486  3785.826  -6741.640  6279.695 -2946.165  556.9903\n",
      "[18,]  -472.7875 -1097.923  3631.972  -6469.271  6026.163 -2827.095  534.5252\n",
      "[19,]  -455.0228 -1055.008  3490.440  -6217.771  5791.461 -2716.309  513.9022\n",
      "[20,]  -439.0481 -1014.731  3358.866  -5984.239  5574.894 -2616.110  495.7592\n",
      "[1] \"####################\"\n",
      "[1] \"n-value =  50\"\n",
      "[1] \"Solution check to Hx=b\"\n",
      "      [,1]\n",
      " [1,]    1\n",
      " [2,]    1\n",
      " [3,]    1\n",
      " [4,]    1\n",
      " [5,]    1\n",
      " [6,]    1\n",
      " [7,]    1\n",
      " [8,]    1\n",
      " [9,]    1\n",
      "[10,]    1\n",
      "[11,]    1\n",
      "[12,]    1\n",
      "[13,]    1\n",
      "[14,]    1\n",
      "[15,]    1\n",
      "[16,]    1\n",
      "[17,]    1\n",
      "[18,]    1\n",
      "[19,]    1\n",
      "[20,]    1\n",
      "[21,]    1\n",
      "[22,]    1\n",
      "[23,]    1\n",
      "[24,]    1\n",
      "[25,]    1\n",
      "[26,]    1\n",
      "[27,]    1\n",
      "[28,]    1\n",
      "[29,]    1\n",
      "[30,]    1\n",
      "[31,]    1\n",
      "[32,]    1\n",
      "[33,]    1\n",
      "[34,]    1\n",
      "[35,]    1\n",
      "[36,]    1\n",
      "[37,]    1\n",
      "[38,]    1\n",
      "[39,]    1\n",
      "[40,]    1\n",
      "[41,]    1\n",
      "[42,]    1\n",
      "[43,]    1\n",
      "[44,]    1\n",
      "[45,]    1\n",
      "[46,]    1\n",
      "[47,]    1\n",
      "[48,]    1\n",
      "[49,]    1\n",
      "[50,]    1\n",
      "[1] \"Inverse check\"\n",
      "           [,1]       [,2]      [,3]       [,4]     [,5]       [,6]      [,7]\n",
      " [1,] 28.673442 -4876.0280 212708.38 -4001078.6 40194872 -239500174 892562771\n",
      " [2,] 25.271311 -4451.6805 194243.49 -3653963.4 36711981 -218790631 815643965\n",
      " [3,] 23.267261 -4099.5072 178839.57 -3364322.2 33804829 -201494977 751348199\n",
      " [4,] 21.567272 -3799.9304 165770.94 -3118593.7 31337820 -186811659 696726331\n",
      " [5,] 20.105393 -3542.3225 154533.68 -2907264.4 29215727 -174176994 649700075\n",
      " [6,] 18.833820 -3318.2557 144759.31 -2723430.7 27369451 -163181564 608757306\n",
      " [7,] 17.716959 -3121.4554 136174.23 -2561954.3 25747507 -153520021 572768734\n",
      " [8,] 16.727706 -2947.1442 128570.09 -2418920.9 24310662 -144959536 540872251\n",
      " [9,] 15.845030 -2791.6149 121785.23 -2291292.3 23028456 -137319225 512397457\n",
      "[10,] 15.052340 -2651.9434 115692.09 -2176671.5 21876847 -130456252 486814550\n",
      "[11,] 14.336358 -2525.7894 110188.61 -2073140.1 20836591 -124256229 463698916\n",
      "[12,] 13.686327 -2411.2572 105192.11 -1979143.5 19892089 -118626401 442706074\n",
      "[13,] 13.093432 -2306.7929 100634.80 -1893407.4 19030554 -113490714 423553395\n",
      "[14,] 12.550376 -2211.1108  96460.61 -1814877.4 18241400 -108786187 406006749\n",
      "[15,] 12.051066 -2123.1371  92622.68 -1742672.5 17515784 -104460196 389870426\n",
      "[16,] 11.590371 -2041.9675  89081.59 -1676051.1 16846261 -100468422 374979526\n",
      "[17,] 11.163939 -1966.8352  85803.87 -1614384.2 16226513  -96773250 361194080\n",
      "[18,] 10.768053 -1897.0851  82760.95 -1557134.3 15651143  -93342549 348394475\n",
      "[19,] 10.399519 -1832.1545  79928.28 -1503839.6 15115514  -90148699 336477871\n",
      "[20,] 10.055576 -1771.5568  77284.65 -1454100.9 14615616  -87167820 325355336\n",
      "[21,]  9.733826 -1714.8693  74811.59 -1407571.4 14147965  -84379156 314949556\n",
      "[22,]  9.432173 -1661.7229  72493.02 -1363948.2 13709519  -81764583 305193006\n",
      "[23,]  9.148780 -1611.7938  70314.80 -1322965.5 13297607  -79308195 296026415\n",
      "[24,]  8.882027 -1564.7966  68264.50 -1284389.3 12909879  -76995978 287397571\n",
      "[25,]  8.630483 -1520.4790  66331.09 -1248012.5 12544253  -74815533 279260244\n",
      "[26,]  8.392876 -1478.6169  64504.81 -1213651.1 12198882  -72755851 271573409\n",
      "[27,]  8.168073 -1439.0108  62776.95 -1181141.3 11872120  -70807119 264300484\n",
      "[28,]  7.955061 -1401.4822  61139.72 -1150336.7 11562495  -68960568 257408773\n",
      "[29,]  7.752932 -1365.8709  59586.14 -1121106.0 11268687  -67208333 250868939\n",
      "[30,]  7.560868 -1332.0332  58109.94 -1093330.9 10989510  -65543333 244654597\n",
      "[31,]  7.378134 -1299.8391  56705.43 -1066905.0 10723892  -63959190 238741946\n",
      "[32,]  7.204062 -1269.1712  55367.52 -1041731.8 10470865  -62450127 233109446\n",
      "[33,]  7.038049 -1239.9232  54091.54 -1017724.0 10229552  -61010913 227737591\n",
      "[34,]  6.879545 -1211.9981  52873.28  -994802.2  9999153  -59636788 222608623\n",
      "[35,]  6.728050 -1185.3081  51708.90  -972894.1  9778943  -58323423 217706390\n",
      "[36,]  6.583109 -1159.7725  50594.89  -951933.7  9568258  -57066858 213016124\n",
      "[37,]  6.444302 -1135.3178  49528.03  -931860.5  9366491  -55863475 208524336\n",
      "[38,]  6.311248 -1111.8767  48505.39  -912619.2  9173085  -54709961 204218649\n",
      "[39,]  6.183595 -1089.3871  47524.26  -894159.0  8987531  -53603266 200087695\n",
      "[40,]  6.061020 -1067.7922  46582.17  -876433.2  8809357  -52540590 196121028\n",
      "[41,]  5.943225 -1047.0393  45676.81  -859398.5  8638131  -51519351 192309003\n",
      "[42,]  5.829934 -1027.0801  44806.07  -843015.4  8473454  -50537163 188642737\n",
      "[43,]  5.720894 -1007.8697  43968.00  -827247.0  8314955  -49591826 185114001\n",
      "[44,]  5.615869  -989.3668  43160.80  -812059.2  8162292  -48681297 181715187\n",
      "[45,]  5.514641  -971.5328  42382.78  -797420.5  8015149  -47803682 178439225\n",
      "[46,]  5.417007  -954.3320  41632.38  -783301.5  7873230  -46957227 175279559\n",
      "[47,]  5.322778  -937.7311  40908.16  -769675.1  7736261  -46140297 172230093\n",
      "[48,]  5.231779  -921.6993  40208.76  -756515.7  7603988  -45351369 169285149\n",
      "[49,]  5.143847  -906.2078  39532.93  -743799.8  7476172  -44589026 166439432\n",
      "[50,]  5.058829  -891.2295  38879.50  -731505.3  7352591  -43851942 163688003\n",
      "             [,8]       [,9]       [,10]      [,11]       [,12]      [,13]\n",
      " [1,] -2126393234 3242580068 -3166060978 2146231494 -1472011371 1548597808\n",
      " [2,] -1944123013 2966846114 -2899440245 1965963422 -1347000599 1418198498\n",
      " [3,] -1791554486 2735571911 -2675264290 1814320247 -1242144039 1308552764\n",
      " [4,] -1661802671 2538573515 -2483951817 1684857164 -1152824020 1214979435\n",
      " [5,] -1549999500 2368613704 -2318651190 1572960425 -1075759050 1134128877\n",
      " [6,] -1452593504 2220391194 -2174318651 1475230837 -1008545807 1063534530\n",
      " [7,] -1366926560 2089924990 -2047151446 1389103772  -949379759 1001336404\n",
      " [8,] -1290965734 1974162284 -1934223944 1312605076  -896877316  946103415\n",
      " [9,] -1223127793 1870720164 -1833246234 1244188848  -849958583  896715416\n",
      "[10,] -1162159899 1777709367 -1742398737 1182626176  -807767460  852282320\n",
      "[11,] -1107056929 1693611768 -1660216444 1126927293  -769616074  812087505\n",
      "[12,] -1057002599 1617192756 -1585506029 1076285728  -734945039  775547235\n",
      "[13,] -1011326754 1547437510 -1517285138 1030037411  -703294539  742181000\n",
      "[14,]  -969473789 1483503795 -1454737511  987630432  -674282948  711589523\n",
      "[15,]  -930978961 1424686516 -1397179110  948602130  -647590831  683438216\n",
      "[16,]  -895450546 1370390855 -1344032221  912561739  -622948654  657444524\n",
      "[17,]  -862555843 1320111236 -1294805487  879176792  -600127326  633368105\n",
      "[18,]  -832010413 1273415236 -1249078269  848162660  -578930917  611003225\n",
      "[19,]  -803569644 1229930665 -1206488336  819274178  -559190763  590172709\n",
      "[20,]  -777021907 1189335452 -1166721972  792299012  -540760906  570723139\n",
      "[21,]  -752183187 1151349341 -1129506119  767052280  -523514339  552520941\n",
      "[22,]  -728892679 1115727413 -1094601987  743372312  -507340063  535449354\n",
      "[23,]  -707009264 1082254554 -1061799792  721117057  -492140592  519405755\n",
      "[24,]  -686408540 1050741184 -1030914510  700161196  -477829959  504299660\n",
      "[25,]  -666980388 1021019336 -1001782202  680393724  -464332061  490050912\n",
      "[26,]  -648627022  992939883  -974257282  661715989  -451579285  476588262\n",
      "[27,]  -631261269  966369823  -948209808  644039989  -439511323  463848205\n",
      "[28,]  -614805181  941190184  -923523565  627286987  -428074253  451773891\n",
      "[29,]  -599188837  917294245  -900094254  611386299  -417219681  440314304\n",
      "[30,]  -584349305  894585929  -877827957  596274317  -406904042  429423521\n",
      "[31,]  -570229824  872978594  -856639965  581893609  -397088043  419060106\n",
      "[32,]  -556779039  852393771  -836453562  568192191  -387736115  409186542\n",
      "[33,]  -543950410  832760403  -817199206  555122943  -378816022  399768827\n",
      "[34,]  -531701589  814013771  -798813624  542642960  -370298414  390776006\n",
      "[35,]  -519994034  796095022  -781239200  530713211  -362156596  382179901\n",
      "[36,]  -508792532  778950313  -764423266  519297985  -354366151  373954770\n",
      "[37,]  -498064866  762530417  -748317654  508364619  -346904750  366077041\n",
      "[38,]  -487781525  746790262  -732878210  497883188  -339751944  358525126\n",
      "[39,]  -477915384  731688352  -718064330  487826159  -332888903  351279164\n",
      "[40,]  -468441495  717186561  -703838692  478168231  -326298351  344320906\n",
      "[41,]  -459336868  703249742  -690166870  468886053  -319964310  337633511\n",
      "[42,]  -450580271  689845438  -677017083  459958087  -313872080  331201439\n",
      "[43,]  -442152086  676943646  -664359935  451364391  -308008035  325010316\n",
      "[44,]  -434034134  664516569  -652168217  443086520  -302359568  319046830\n",
      "[45,]  -426209551  652538429  -640416659  435107324  -296914970  313298624\n",
      "[46,]  -418662701  640985289  -629081817  427410917  -291663395  307754232\n",
      "[47,]  -411379007  629834875  -618141883  419982494  -286594724  302402988\n",
      "[48,]  -404344928  619066459  -607576528  412808283  -281699552  297234957\n",
      "[49,]  -397547814  608660713  -597366821  405875435  -276969105  292240872\n",
      "[50,]  -390975874  598599579  -587495077  399171954  -272395192  287412082\n",
      "            [,14]     [,15]      [,16]      [,17]      [,18]      [,19]\n",
      " [1,] -1671502445 320945206 1756897633 -824338263 -749261836 -704559363\n",
      " [2,] -1529481364 291864443 1600923348 -747624802 -680531036 -642312543\n",
      " [3,] -1410348112 267862970 1471558093 -684732752 -623965344 -590637024\n",
      " [4,] -1308864568 247678058 1362318857 -632113580 -576493831 -546969876\n",
      " [5,] -1221305829 230441202 1268717877 -587362183 -536021225 -509532362\n",
      " [6,] -1144942512 215533597 1187537013 -548784887 -501063217 -477046732\n",
      " [7,] -1077724553 202501338 1116401363 -515150996 -470535653 -448568878\n",
      " [8,] -1018079805 191003262 1053515866 -485542677 -443626284 -423384506\n",
      " [9,]  -964780990 180777566  997496151 -459260231 -419713456 -400942336\n",
      "[10,]  -916855081 171619748  947255918 -435760040 -398312562 -380809503\n",
      "[11,]  -873520187 163367556  901929787 -414612822 -379039764 -362640966\n",
      "[12,]  -834140476 155890507  860819262 -395474757 -361586857 -346158135\n",
      "[13,]  -798193230 149082375  823353926 -378066927 -345703212 -331133367\n",
      "[14,]  -765244696 142855755  789062982 -362160484 -331182856 -317378721\n",
      "[15,]  -734931746 137138024  757554290 -347565842 -317854776 -304737602\n",
      "[16,]  -706948007 131868330  728498459 -334124497 -305575793 -293078429\n",
      "[17,]  -681033102 126995250  701616576 -321702783 -294225040 -282289747\n",
      "[18,]  -656964322 122475033  676670913 -310187207 -283699716 -272276537\n",
      "[19,]  -634549975 118270215  653457477 -299480718 -273911854 -262957243\n",
      "[20,]  -613624179 114348494  631800213 -289499802 -264785662 -254261466\n",
      "[21,]  -594042592 110681875  611546308 -280172173 -256255487 -246128073\n",
      "[22,]  -575679065 107245991  592562487 -271434954 -248264178 -238503759\n",
      "[23,]  -558422813 104019492  574731967 -263233153 -240761727 -231341777\n",
      "[24,]  -542176170 100983619  557951979 -255518501 -233704190 -224600994\n",
      "[25,]  -526852630  98121794  542131632 -248248370 -227052750 -218245036\n",
      "[26,]  -512375381  95419332  527190323 -241385033 -220773033 -212241628\n",
      "[27,]  -498675911  92863171  513056299 -234894951 -214834475 -206562036\n",
      "[28,]  -485692934  90441640  499665450 -228748208 -209209789 -201180577\n",
      "[29,]  -473371481  88144292  486960298 -222918025 -203874536 -196074236\n",
      "[30,]  -461662059  85961743  474889199 -217380344 -198806772 -191222314\n",
      "[31,]  -450520027  83885532  463405561 -212113525 -193986745 -186606159\n",
      "[32,]  -439904974  81908010  452467312 -207097990 -189396581 -182208891\n",
      "[33,]  -429780274  80022270  442036308 -202316075 -185020127 -178015225\n",
      "[34,]  -420112601  78222013  432077867 -197751691 -180842705 -174011274\n",
      "[35,]  -410871631  76501527  422560478 -193390236 -176850956 -170184384\n",
      "[36,]  -402029618  74855587  413455293 -189218370 -173032699 -166523013\n",
      "[37,]  -393561218  73279423  404736021 -185223915 -169376798 -163016594\n",
      "[38,]  -385443176  71768671  396378533 -181395729 -165873067 -159655462\n",
      "[39,]  -377654141  70319309  388360655 -177723568 -162512140 -156430727\n",
      "[40,]  -370174454  68927660  380662037 -174198045 -159285421 -153334223\n",
      "[41,]  -362986008  67590322  373263902 -170810482 -156184990 -150358416\n",
      "[42,]  -356072076  66304159  366148940 -167552907 -153203538 -147496362\n",
      "[43,]  -349417200  65066277  359301133 -164417928 -150334324 -144741637\n",
      "[44,]  -343007063  63873999  352705678 -161398738 -147571092 -142088294\n",
      "[45,]  -336828362  62724830  346348812 -158488985 -144908053 -139530818\n",
      "[46,]  -330868777  61616471  340217788 -155682808 -142339835 -137064094\n",
      "[47,]  -325116824  60546773  334300741 -152974750 -139861442 -134683348\n",
      "[48,]  -319561820  59513742  328586625 -150359717 -137468217 -132384160\n",
      "[49,]  -314193815  58515516  323065146 -147833000 -135155836 -130162392\n",
      "[50,]  -309003481  57550359  317726706 -145390153 -132920257 -128014187\n",
      "           [,20]      [,21]     [,22]       [,23]      [,24]      [,25]\n",
      " [1,] -161680807 2541958219 755816718 -3962249357 -742392660 3294131923\n",
      " [2,] -153274695 2319518193 688470725 -3619264435 -676133565 3014357385\n",
      " [3,] -145037208 2134302104 632635961 -3332945498 -621204556 2779687711\n",
      " [4,] -137245103 1977430210 585507167 -3089948280 -574846662 2579783538\n",
      " [5,] -129998105 1842698507 545141348 -2880902050 -535147543 2407301650\n",
      " [6,] -123313057 1725625143 510145008 -2699007850 -500735049 2256865085\n",
      " [7,] -117168615 1622882494 479489870 -2539199296 -470596404 2124436771\n",
      " [8,] -111527187 1531942870 452398849 -2397615823 -443966151 2006921294\n",
      " [9,] -106345689 1450848818 428272847 -2271259721 -420254142 1901902585\n",
      "[10,] -101580868 1378058807 406641858 -2157764896 -398997429 1807465160\n",
      "[11,]  -97191815 1312341226 387131606 -2055237096 -379827355 1722069797\n",
      "[12,]  -93140958 1252699459 369440093 -1962140750 -362446502 1644464660\n",
      "[13,]  -89394397 1198317741 353320746 -1877217106 -346612080 1573620737\n",
      "[14,]  -85921837 1148521565 338570154 -1799423967 -332123805 1508683949\n",
      "[15,]  -82696350 1102748136 325018904 -1727890633 -318814902 1448939268\n",
      "[16,]  -79694014 1060524062 312524760 -1661883909 -306545361 1393783465\n",
      "[17,]  -76893652 1021447925 300967313 -1600781648 -295196676 1342703749\n",
      "[18,]  -74276494  985177235 290243925 -1544052366 -284667864 1295261503\n",
      "[19,]  -71825857  951417786 280266596 -1491239304 -274872322 1251079205\n",
      "[20,]  -69526926  919915432 270959363 -1441947566 -265735335 1209830103\n",
      "[21,]  -67366510  890449400 262256318 -1395833916 -257192048 1171229893\n",
      "[22,]  -65332854  862827035 254099989 -1352598601 -249185957 1135030077\n",
      "[23,]  -63415417  836879372 246440028 -1311978687 -241667531 1101012416\n",
      "[24,]  -61604776  812457649 239232126 -1273742477 -234593208 1068984476\n",
      "[25,]  -59892470  789430213 232437119 -1237684927 -227924484 1038775860\n",
      "[26,]  -58270873  767680303 226020279 -1203623995 -221627206 1010235210\n",
      "[27,]  -56733121  747103893 219950683 -1171397522 -215670984  983227531\n",
      "[28,]  -55272997  727607975 214200718 -1140860471 -210028665  957632091\n",
      "[29,]  -53884877  709109220 208745629 -1111882786 -204675936  933340537\n",
      "[30,]  -52563651  691532622 203563173 -1084347486 -199590920  910255377\n",
      "[31,]  -51304675  674810632 198633306 -1058149050 -194753925  888288615\n",
      "[32,]  -50103730  658882056 193937892 -1033191988 -190147132  867360617\n",
      "[33,]  -48956942  643691544 189460519 -1009389831 -185754414  847399220\n",
      "[34,]  -47860780  629188727 185186266  -986663903 -181561114  828338753\n",
      "[35,]  -46812013  615327775 181101559  -964942580 -177553891  810119410\n",
      "[36,]  -45807665  602066802 177194002  -944160449 -173720573  792686546\n",
      "[37,]  -44845007  589367555 173452269  -924257684 -170050027  775990195\n",
      "[38,]  -43921531  577194965 169865982  -905179491 -166532071  759984528\n",
      "[39,]  -43034915  565516804 166425605  -886875453 -163157324  744627440\n",
      "[40,]  -42183016  554303468 163122387  -869299297 -159917201  729880231\n",
      "[41,]  -41363860  543527630 159948248  -852408279 -156803767  715707154\n",
      "[42,]  -40575610  533164129 156895740  -836163040 -153809702  702075286\n",
      "[43,]  -39816568  523189656 153957986  -820527123 -150928257  688954129\n",
      "[44,]  -39085147  513582660 151128610  -805466809 -148153171  676315454\n",
      "[45,]  -38379888  504323131 148401701  -790950786 -145478639  664133071\n",
      "[46,]  -37699417  495392502 145771775  -776950014 -142899276  652382677\n",
      "[47,]  -37042466  486773510 143233736  -763437455 -140410077  641041630\n",
      "[48,]  -36407844  478450095 140782833  -750387976 -138006383  630088883\n",
      "[49,]  -35794434  470407255 138414643  -737778131 -135683847  619504798\n",
      "[50,]  -35201203  462631017 136125037  -725585995 -133438416  609271019\n",
      "           [,26]      [,27]       [,28]       [,29]      [,30]      [,31]\n",
      " [1,] 1673764253 2548033630 -7677407935 -2471477195 3444896997 5448211143\n",
      " [2,] 1532190016 2333118649 -7025341415 -2264101894 3146728550 4981208946\n",
      " [3,] 1413330134 2152464805 -6478370917 -2089603169 2897844983 4590305754\n",
      " [4,] 1312004167 1998329605 -6012417562 -1940589548 2686628271 4257859884\n",
      " [5,] 1224525376 1865177958 -5610375171 -1811767975 2504925019 3971399173\n",
      " [6,] 1148189736 1748936611 -5259715687 -1699237131 2346822090 3721825126\n",
      " [7,] 1080964235 1646535388 -4951031644 -1600052263 2207914382 3502327622\n",
      " [8,] 1021288243 1555612920 -4677109092 -1511945643 2084845911 3307698572\n",
      " [9,]  967942393 1474321466 -4432316910 -1433140754 1975011180 3133881721\n",
      "[10,]  919959169 1401193098 -4212190468 -1362224930 1876353792 2977667211\n",
      "[11,]  876560506 1335046220 -4013141798 -1298060021 1787227550 2836479877\n",
      "[12,]  837113235 1274918526 -3832252969 -1239718419 1706298056 2708228387\n",
      "[13,]  801096581 1220018012 -3667125261 -1186436114 1632471427 2591195605\n",
      "[14,]  768078084 1169686631 -3515767699 -1137577958 1564842008 2483957947\n",
      "[15,]  737695540 1123373068 -3376513486 -1092611501 1502653211 2385324773\n",
      "[16,]  709643246 1080611747 -3247956343 -1051086878 1445267857 2294292334\n",
      "[17,]  683661253 1041006715 -3128900851 -1012621349 1392145313 2210008193\n",
      "[18,]  659527127 1004219096 -3018324551  -976887154 1342823689 2131743537\n",
      "[19,]  637049385  969957030 -2915347321  -943601965 1296906105 2058871567\n",
      "[20,]  616062228  937967858 -2819207524  -912521233 1254049331 1990850111\n",
      "[21,]  596421373  908031613 -2729242263  -883432021 1213955093 1927207590\n",
      "[22,]  578000676  879955969 -2644872319  -856148106 1176362902 1867532031\n",
      "[23,]  560689344  853571995 -2565588969  -830505840 1141044194 1811461838\n",
      "[24,]  544389652  828730698 -2490943586  -806360856 1107797637 1758678223\n",
      "[25,]  529015067  805300083 -2420538928  -783585260 1076445012 1708899090\n",
      "[26,]  514488698  783162898 -2354022144  -762065394 1046828113 1661873829\n",
      "[27,]  500741956  762214558 -2291078595  -741699872 1018805968 1617379099\n",
      "[28,]  487713508  742361503 -2231426821  -722397952  992252535 1575215183\n",
      "[29,]  475348290  723519762 -2174814229  -704078208  967054775 1535202899\n",
      "[30,]  463596746  705613730 -2121013521  -686667321  943110984 1497180998\n",
      "[31,]  452414158  688575229 -2069819650  -670099127  920329485 1461004074\n",
      "[32,]  441760058  672342505 -2021046988  -654313715  898627218 1426540504\n",
      "[33,]  431597733  656859603 -1974527215  -639256782  877929068 1393671058\n",
      "[34,]  421893819  642075579 -1930107309  -624878912  858166596 1362287225\n",
      "[35,]  412617891  627944081 -1887647922  -611135080  839277590 1332290264\n",
      "[36,]  403742171  614422719 -1847021592  -597984153  821205169 1303589894\n",
      "[37,]  395241244  601472720 -1808111861  -585388511  803897314 1276103643\n",
      "[38,]  387091812  589058571 -1770811971  -573313634  787306396 1249755851\n",
      "[39,]  379272454  577147592 -1735023704  -561727815  771388588 1224477011\n",
      "[40,]  371763479  565709755 -1700656849  -550601878  756103665 1200203227\n",
      "[41,]  364546725  554717345 -1667628142  -539908929  741414490 1176875561\n",
      "[42,]  357605419  544144814 -1635860784  -529624133  727286809 1154439633\n",
      "[43,]  350924061  533968499 -1605283724  -519724523  713688942 1132845172\n",
      "[44,]  344488294  524166513 -1575831181  -510188820  700591568 1112045604\n",
      "[45,]  338284785  514718519 -1547442083  -500997283  687967481 1091997714\n",
      "[46,]  332301171  505605666 -1520059742  -492131587  675791416 1072661421\n",
      "[47,]  326525933  496810398 -1493631448  -483574686  664039892 1053999393\n",
      "[48,]  320948363  488316374 -1468108136  -475310696  652691021 1035976921\n",
      "[49,]  315558460  480108353 -1443443967  -467324806  641724432 1018561628\n",
      "[50,]  310346901  472172111 -1419596263  -459603199  631121081 1001723258\n",
      "            [,32]      [,33]       [,34]      [,35]      [,36]       [,37]\n",
      " [1,] -2701866779 -641776795 -2033178958 -473809461 8148648782 -8865749965\n",
      " [2,] -2465826824 -583701508 -1859906238 -432160177 7451651114 -8105333863\n",
      " [3,] -2269223101 -535713906 -1714638944 -397492830 6867945826 -7468979365\n",
      " [4,] -2102661151 -495319578 -1590942754 -368137068 6371340067 -6927881177\n",
      " [5,] -1959574316 -460800025 -1484252222 -342929268 5943294576 -6461688563\n",
      " [6,] -1835216597 -430928732 -1391226842 -321029703 5570272732 -6055564288\n",
      " [7,] -1726063043 -404804519 -1309359956 -301815082 5242135108 -5698407643\n",
      " [8,] -1629434993 -381748916 -1236730545 -284811924 4951122634 -5381732453\n",
      " [9,] -1543257454 -361240565 -1171839719 -269653488 4691189313 -5098931277\n",
      "[10,] -1465895963 -342871653 -1113499593 -256050906 4457548721 -4844776752\n",
      "[11,] -1396044183 -326318229 -1060755869 -243773338 4246359259 -4615075798\n",
      "[12,] -1332644903 -311319509 -1012832692 -232633951 4054500228 -4406423826\n",
      "[13,] -1274832556 -297662982  -969092408 -222479806 3879408564 -4216025673\n",
      "[14,] -1221891330 -285173666  -929005905 -213184437 3718958831 -4041564390\n",
      "[15,] -1173223843 -273706040  -892130322 -204642321 3571372937 -3881102277\n",
      "[16,] -1128327516 -263138117  -858092089 -196764682 3435151646 -3733005909\n",
      "[17,] -1086776218 -253366755  -826573712 -189476269 3309021420 -3595888138\n",
      "[18,] -1048206203 -244304155  -797303691 -182712859 3191893457 -3468563189\n",
      "[19,] -1012305057 -235875092  -770048350 -176419300 3082830978 -3350011186\n",
      "[20,]  -978802854 -228014716  -744605500 -170547950 2981023695 -3239349994\n",
      "[21,]  -947465074 -220666808  -720799221 -165057432 2885766738 -3135812417\n",
      "[22,]  -918087088 -213782376  -698475785 -159911639 2796444240 -3038728196\n",
      "[23,]  -890489361 -207318544  -677500195 -155078913 2712515550 -2947509087\n",
      "[24,]  -864513833 -201237595  -657753455 -150531373 2633504090 -2861636489\n",
      "[25,]  -840020649 -195506210  -639130185 -146244374 2558987972 -2780651424\n",
      "[26,]  -816885692 -190094882  -621536788 -142196035 2488592494 -2704146275\n",
      "[27,]  -794998440 -184977323  -604889824 -138366879 2421983599 -2631757685\n",
      "[28,]  -774260051 -180130096  -589114654 -134739497 2358862560 -2563160778\n",
      "[29,]  -754581957 -175532194  -574144303 -131298282 2298961406 -2498064021\n",
      "[30,]  -735884441 -171164734  -559918521 -128029204 2242038922 -2436205206\n",
      "[31,]  -718095689 -167010721  -546382946 -124919615 2187877630 -2377347737\n",
      "[32,]  -701150684 -163054781  -533488366 -121958074 2136280578 -2321277496\n",
      "[33,]  -684990551 -159283009  -521190195 -119134223 2087069397 -2267800512\n",
      "[34,]  -669561768 -155682763  -509447855 -116438640 2040081781 -2216740345\n",
      "[35,]  -654815610 -152242553  -498224423 -113862755 1995169938 -2167936272\n",
      "[36,]  -640707547 -148951877  -487486137 -111398742 1952198837 -2121241547\n",
      "[37,]  -627196916 -145801150  -477202141 -109039447 1911045055 -2076521917\n",
      "[38,]  -614246432 -142781598  -467344137 -106778314 1871595381 -2033654360\n",
      "[39,]  -601821810 -139885150  -457886127 -104609323 1833745804 -1992525759\n",
      "[40,]  -589891589 -137104402  -448804212 -102526941 1797400732 -1953032256\n",
      "[41,]  -578426705 -134432524  -440076334 -100526067 1762471909 -1915077877\n",
      "[42,]  -567400408 -131863226  -431682154  -98601997 1728878022 -1878574222\n",
      "[43,]  -556787912 -129390687  -423602852  -96750382 1696543794 -1843439501\n",
      "[44,]  -546566293 -127009523  -415821006  -94967193 1665399542 -1809597945\n",
      "[45,]  -536714286 -124714741  -408320455  -93248701 1635380553 -1776979267\n",
      "[46,]  -527212137 -122501712  -401086194  -91591437 1606426876 -1745518258\n",
      "[47,]  -518041489 -120366121  -394104258  -89992179 1578482659 -1715154188\n",
      "[48,]  -509185258 -118303965  -387361661  -88447931 1551495913 -1685830620\n",
      "[49,]  -500627504 -116311514  -380846273  -86955893 1525418154 -1657494822\n",
      "[50,]  -492353352 -114385272  -374546782  -85513460 1500204147 -1630097640\n",
      "           [,38]       [,39]      [,40]       [,41]      [,42]      [,43]\n",
      " [1,] 3700774475 -1484374584 3283260603 -5784661294 1912110314 3202008018\n",
      " [2,] 3379058005 -1358672469 3003070768 -5292009418 1755697901 2923795501\n",
      " [3,] 3110700867 -1253142102 2768266334 -4878966280 1623178262 2691764314\n",
      " [4,] 2883088239 -1163188431 2568396375 -4527243184 1509424659 2494982343\n",
      " [5,] 2687377027 -1085537434 2396051037 -4223862775 1410688580 2325790844\n",
      " [6,] 2517159536 -1017786374 2245812382 -3959329106 1324163071 2178642891\n",
      " [7,] 2367665896  -958128310 2113617817 -3726516924 1247703045 2049410924\n",
      " [8,] 2235264525  -905176105 1996355553 -3519965383 1179640177 1934953374\n",
      " [9,] 2117137518  -857845948 1891599008 -3335413803 1118657048 1832833201\n",
      "[10,] 2011062103  -815277961 1797425838 -3169485587 1063699059 1741128393\n",
      "[11,] 1915259536  -776780700 1712292414 -3019468082 1013911902 1658301257\n",
      "[12,] 1828288720  -741791553 1634944076 -2883155836  968595993 1583106101\n",
      "[13,] 1748968657  -709847818 1564350057 -2758736256  927172867 1514522280\n",
      "[14,] 1676321981  -680565332 1499655227 -2644705337  889160008 1451705063\n",
      "[15,] 1609532369  -653622354 1440144016 -2539804202  854151670 1393949194\n",
      "[16,] 1547912643  -628747382 1385212889 -2442970843  821804191 1340660851\n",
      "[17,] 1490879853  -605709550 1334349080 -2353302822  791824518 1291336317\n",
      "[18,] 1437936139  -584311364 1287114068 -2270028194  763961211 1245545514\n",
      "[19,] 1388653730  -564382782 1243130569 -2192482778  737997268 1202918838\n",
      "[20,] 1342662848  -545776629 1202072118 -2120091691  713744463 1163136818\n",
      "[21,] 1299642226  -528364814 1163654704 -2052354851  691038656 1125921877\n",
      "[22,] 1259311291  -512035364 1127630166 -1988835194  669736129 1091031661\n",
      "[23,] 1221423968  -496689935 1093780617 -1929148914  649710430 1058253551\n",
      "[24,] 1185763478  -482241808 1061913984 -1872957678  630849904 1027400260\n",
      "[25,] 1152137992  -468614169 1031860173 -1819961838  613055547  998306084\n",
      "[26,] 1120377305  -455738790 1003468148 -1769895331  596239297  970823909\n",
      "[27,] 1090329717  -443554822  976603261 -1722520866  580322533  944822721\n",
      "[28,] 1061859602  -432007823  951145047 -1677626161  565234864  920185311\n",
      "[29,] 1034845398  -421048957  926985450 -1635020919  550913053  896806649\n",
      "[30,] 1009177716  -410634250  904027242 -1594533673  537300154  874592217\n",
      "[31,]  984757935  -400724027  882182685 -1556009873  524344727  853456800\n",
      "[32,]  961496847  -391282384  861372403 -1519309586  512000209  833323269\n",
      "[33,]  939313597  -382276778  841524432 -1484306025  500224330  814121805\n",
      "[34,]  918134689  -373677575  822573317 -1450883760  488978632  795788881\n",
      "[35,]  897893220  -365457830  804459479 -1418937796  478228069  778266658\n",
      "[36,]  878528059  -357592873  787128444 -1388372154  467940599  761502311\n",
      "[37,]  859983329  -350060181  770530441 -1359099018  458086900  745447560\n",
      "[38,]  842207842  -342839081  754619797 -1331037926  448640080  730058153\n",
      "[39,]  825154547  -335910588  739354569 -1304114941  439575420  715293398\n",
      "[40,]  808780178  -329257226  724696184 -1278262053  430870167  701115942\n",
      "[41,]  793044875  -322862896  710609074 -1253416570  422503345  687491300\n",
      "[42,]  777911847  -316712723  697060418 -1229520605  414455571  674387670\n",
      "[43,]  763347077  -310792965  684019862 -1206520645  406708936  661775655\n",
      "[44,]  749319086  -305090884  671459293 -1184367136  399246818  649628019\n",
      "[45,]  735798630  -299594663  659352630 -1163014071  392053822  637919503\n",
      "[46,]  722758611  -294293341  647675666 -1142418787  385115633  626626682\n",
      "[47,]  710173809  -289176703  636405864 -1122541574  378418932  615727708\n",
      "[48,]  698020753  -284235252  625522277 -1103345443  371951324  605202328\n",
      "[49,]  686277539  -279460131  615005343 -1084795930  365701243  595031589\n",
      "[50,]  674923734  -274843061  604836810 -1066860865  359657885  585197825\n",
      "            [,44]      [,45]      [,46]      [,47]       [,48]       [,49]\n",
      " [1,] -2530085575 -836224374 1057562743 3810269964 -3646336319 -1007571221\n",
      " [2,] -2314781925 -762602504  968133532 3487017485 -3341742677  -917630371\n",
      " [3,] -2134233024 -701367305  893002101 3215726469 -3085117645  -843106402\n",
      " [4,] -1980462523 -649550549  828926732 2984531258 -2865768075  -780224610\n",
      " [5,] -1847809066 -605081678  773593310 2784990575 -2676006612  -726377948\n",
      " [6,] -1732128751 -566467017  725300761 2610915111 -2510150346  -679700297\n",
      " [7,] -1630311095 -532598921  682768045 2457652851 -2363899869  -638816448\n",
      " [8,] -1539971664 -502636978  645010578 2321633746 -2233938235  -602688127\n",
      " [9,] -1459249485 -475930980  611258377 2200069071 -2117663209  -570515312\n",
      "[10,] -1386669476 -451969385  580900024 2090746677 -2013003043  -541670698\n",
      "[11,] -1321046369 -430343792  553443581 1991888032 -1918286975  -515654838\n",
      "[12,] -1261416352 -410723969  528488531 1902046061 -1832152132  -492064837\n",
      "[13,] -1206987209 -392839787  505705335 1820030839 -1753475302  -470571785\n",
      "[14,] -1157101490 -376468048  484820289 1744854445 -1681322171  -450904334\n",
      "[15,] -1111208843 -361422598  465604105 1675689644 -1614909052  -432836560\n",
      "[16,] -1068844974 -347546922  447863214 1611838276 -1553573590  -416178706\n",
      "[17,] -1029615270 -334708408  431433012 1552706887 -1496751972  -400770191\n",
      "[18,]  -993182202 -322793922  416172649 1497787716 -1443961300  -386474133\n",
      "[19,]  -959255289 -311706321  401960845 1446643672 -1394785432  -373173148\n",
      "[20,]  -927583168 -301361736  388692597 1398896444 -1348863833  -360765905\n",
      "[21,]  -897947071 -291687323  376276523 1354216807 -1305882540  -349164485\n",
      "[22,]  -870155889 -282619544  364632742 1312316987 -1265566869  -338292258\n",
      "[23,]  -844041717 -274102682  353691067 1272944234 -1227675419  -328082038\n",
      "[24,]  -819456577 -266087701  343389618 1235875715 -1191995191  -318474733\n",
      "[25,]  -796269418 -258531217  333673581 1200914038 -1158337466  -309418097\n",
      "[26,]  -774363827 -251394760  324494269 1167883902 -1126534515  -300865806\n",
      "[27,]  -753636015 -244644057  315808253 1136628969 -1096436670  -292776617\n",
      "[28,]  -733993148 -238248489  307576679 1107009370 -1067910012  -285113683\n",
      "[29,]  -715351921 -232180609  299764690 1078899628 -1040834315  -277843994\n",
      "[30,]  -697637368 -226415737  292340911 1052186790 -1015101340  -270937876\n",
      "[31,]  -680781859 -220931629  285277019 1026768951  -990613374  -264368582\n",
      "[32,]  -664724184 -215708156  278547396 1002553866  -967281985  -258111928\n",
      "[33,]  -649408866 -210727103  272128812  979457963  -945026958  -252146025\n",
      "[34,]  -634785417 -205971898  266000125  957405152  -923775288  -246450960\n",
      "[35,]  -620807897 -201427471  260142092  936326176  -903460532  -241008634\n",
      "[36,]  -607434299 -197080049  254537123  916157754  -884021898  -235802508\n",
      "[37,]  -594626226 -192917046  249169137  896841984  -865403811  -230817477\n",
      "[38,]  -582348470 -188926936  244023385  878325816  -847555303  -226039699\n",
      "[39,]  -570568675 -185099123  239086310  860560483  -830429525  -221456459\n",
      "[40,]  -559257085 -181423878  234345454  843501147  -813983385  -217056067\n",
      "[41,]  -548386275 -177892221  229789323  827106418  -798177140  -212827762\n",
      "[42,]  -537930922 -174495878  225407304  811338160  -782974092  -208761609\n",
      "[43,]  -527867609 -171227193  221189592  796161052  -768340321  -204848426\n",
      "[44,]  -518174645 -168079086  217127100  781542419  -754244390  -201079720\n",
      "[45,]  -508831918 -165044978  213211392  767451927  -740657118  -197447603\n",
      "[46,]  -499820756 -162118775  209434650  753861416  -727551450  -193944761\n",
      "[47,]  -491123768 -159294807  205789588  740744686  -714902168  -190564396\n",
      "[48,]  -482724796 -156567796  202269432  728077356  -702685816  -187300174\n",
      "[49,]  -474608748 -153932818  198867857  715836679  -690880524  -184146200\n",
      "[50,]  -466761537 -151385279  195578966  704001430  -679465851  -181096965\n",
      "           [,50]\n",
      " [1,] 1208806479\n",
      " [2,] 1105083722\n",
      " [3,] 1018298190\n",
      " [4,]  944511136\n",
      " [5,]  880942450\n",
      " [6,]  825566446\n",
      " [7,]  776868289\n",
      " [8,]  733690255\n",
      " [9,]  695131101\n",
      "[10,]  660477940\n",
      "[11,]  629158996\n",
      "[12,]  600710013\n",
      "[13,]  574749898\n",
      "[14,]  550962728\n",
      "[15,]  529084311\n",
      "[16,]  508891936\n",
      "[17,]  490196481\n",
      "[18,]  472836279\n",
      "[19,]  456672268\n",
      "[20,]  441584170\n",
      "[21,]  427467381\n",
      "[22,]  414230530\n",
      "[23,]  401793386\n",
      "[24,]  390085259\n",
      "[25,]  379043555\n",
      "[26,]  368612700\n",
      "[27,]  358743155\n",
      "[28,]  349390611\n",
      "[29,]  340515318\n",
      "[30,]  332081527\n",
      "[31,]  324056981\n",
      "[32,]  316412477\n",
      "[33,]  309121571\n",
      "[34,]  302160198\n",
      "[35,]  295506451\n",
      "[36,]  289140316\n",
      "[37,]  283043480\n",
      "[38,]  277199177\n",
      "[39,]  271591982\n",
      "[40,]  266207728\n",
      "[41,]  261033339\n",
      "[42,]  256056748\n",
      "[43,]  251266809\n",
      "[44,]  246653192\n",
      "[45,]  242206309\n",
      "[46,]  237917268\n",
      "[47,]  233777795\n",
      "[48,]  229780182\n",
      "[49,]  225917255\n",
      "[50,]  222182299\n"
     ]
    }
   ],
   "source": [
    "##################\n",
    "# EXERCISE CELL\n",
    "##################\n",
    "\n",
    "##########################\n",
    "# beginning of your code\n",
    "\n",
    "library(matlib)\n",
    "\n",
    "nvals <- c(5,10,20,50)\n",
    "\n",
    "for (n in nvals){\n",
    "    H <- hilbertMat(n)\n",
    "    b <- rep(1,n)\n",
    "    \n",
    "    print(\"####################\")\n",
    "    print(paste(\"n-value = \", n))\n",
    "    print(\"Solution check to Hx=b\")\n",
    "    x <- solve(H,b,tol=1e-100)\n",
    "    print(H %*% x)\n",
    "    print(\"Inverse check\")\n",
    "    print(H %*% Inverse(H,tol=1e-100))\n",
    "}\n",
    "\n",
    "# end of your code\n",
    "##########################"
   ]
  },
  {
   "cell_type": "markdown",
   "metadata": {
    "collapsed": false
   },
   "source": [
    "### Exercise 3: EXPLAIN YOUR FINDINGS HERE\n",
    "\n",
    "The Hilbert matrix is well behaved for solving the linear systems, but the inverse of the Hilbert matrix is wildly incorrect."
   ]
  },
  {
   "cell_type": "code",
   "execution_count": 0,
   "metadata": {
    "collapsed": false
   },
   "outputs": [
   ],
   "source": [
   ]
  }
 ],
 "metadata": {
  "kernelspec": {
   "display_name": "R (system-wide)",
   "language": "r",
   "metadata": {
    "cocalc": {
     "description": "R statistical programming language",
     "priority": 10,
     "url": "https://www.r-project.org/"
    }
   },
   "name": "ir",
   "resource_dir": "/ext/jupyter/kernels/ir"
  },
  "language_info": {
   "codemirror_mode": "r",
   "file_extension": ".r",
   "mimetype": "text/x-r-source",
   "name": "R",
   "pygments_lexer": "r",
   "version": "4.1.2"
  }
 },
 "nbformat": 4,
 "nbformat_minor": 4
}