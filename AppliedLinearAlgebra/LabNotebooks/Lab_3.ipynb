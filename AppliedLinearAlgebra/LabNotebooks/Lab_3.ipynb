{
  "cells": [
    {
      "cell_type": "markdown",
      "metadata": {
        "id": "view-in-github",
        "colab_type": "text"
      },
      "source": [
        "<a href=\"https://colab.research.google.com/github/drchadvidden/courseMaterials/blob/main/AppliedLinearAlgebra/LabNotebooks/Lab_3.ipynb\" target=\"_parent\"><img src=\"https://colab.research.google.com/assets/colab-badge.svg\" alt=\"Open In Colab\"/></a>"
      ]
    },
    {
      "cell_type": "markdown",
      "metadata": {
        "collapsed": false,
        "id": "fqY0aegr4G3R"
      },
      "source": [
        "# Lab 3: Applied Problems and Linear Independence\n",
        "\n",
        "MTH 308: Applied Linear Algebra <br>\n",
        "\n",
        "Lab parts:\n",
        "\n",
        "- Part 1: Application, equilibrium pricing, Exercise 1\n",
        "- Part 2: Linear independence, Exercises 2 and 3\n",
        "\n"
      ]
    },
    {
      "cell_type": "markdown",
      "metadata": {
        "collapsed": false,
        "id": "AP1JSqHk4G3W"
      },
      "source": [
        "## Instructions\n",
        "\n",
        "Run each of the coding cells. For example cells, understand the commands and check that the outputs make sense. For exercise cells, write your own code where indicated to generate the correct output.\n",
        "\n",
        "<u>Submission:</u> Complete the following notebook in order. Once done, print the notebook and save as an HTML file. Upload your submission to the Canvas course page.\n",
        "\n",
        "<u>Rubric:</u> 15 total points, 3 points to running example cells and saving outputs, 4 points per exercise block with correct output saved.\n",
        "\n",
        "<u>Deadline:</u> Monday at midnight after the lab is assigned."
      ]
    },
    {
      "cell_type": "markdown",
      "metadata": {
        "collapsed": false,
        "id": "VLQ7kgMG4G3W"
      },
      "source": [
        "#### Example problem\n",
        "\n",
        "This problem is taken from Example 1 of Section 1.6 of the textbook.\n",
        "\n",
        "<img src=\"attachment:capture.png\" width=75%/>\n",
        "<img src=\"attachment:capture2.png\" width=75%/>\n",
        "<img src=\"attachment:capture3.png\" width=50%/>\n"
      ]
    },
    {
      "cell_type": "markdown",
      "metadata": {
        "collapsed": false,
        "id": "MhnYMnUC4G3X"
      },
      "source": [
        "#### Example solution\n",
        "\n",
        "We seek to have each sector's income match is expenditures. Then, for the Coal sector, we require\n",
        "$$\n",
        "p_C = 0.4p_E + 0.6p_S\n",
        "$$\n",
        "which we rewrite as\n",
        "$$\n",
        "p_C - 0.4p_E - 0.6p_S = 0.\n",
        "$$\n",
        "Likewise for the Electric and Steel sectors, we get the following system of equations.\n",
        "$$\n",
        "\\begin{cases}\n",
        "p_C - 0.4p_E - 0.6p_S = 0 \\\\\n",
        "-0.6p_C + 0.9p_E - 0.2p_S = 0 \\\\\n",
        "-0.4p_C - 0.5p_E + 0.8p_S = 0\n",
        "\\end{cases}\n",
        "$$\n",
        "This system is solved in the below code.\n",
        "\n"
      ]
    },
    {
      "cell_type": "code",
      "source": [
        "# R package install\n",
        "system('sudo apt install libudunits2-dev')\n",
        "install.packages(\"matlib\")"
      ],
      "metadata": {
        "id": "t0-gLCXf8wfD"
      },
      "execution_count": null,
      "outputs": []
    },
    {
      "cell_type": "code",
      "execution_count": null,
      "metadata": {
        "id": "7Enfpu6p4G3Y"
      },
      "outputs": [],
      "source": [
        "##################\n",
        "# EXAMPLE CELL\n",
        "##################\n",
        "\n",
        "# load a library of matrix operations\n",
        "library(matlib)\n",
        "\n",
        "# matrix and right hand side for our linear system\n",
        "A <- matrix(c(1, -0.4, -0.6,\n",
        "             -0.6, 0.9, -0.2,\n",
        "             -0.4,  -0.5, 0.8), nrow=3, ncol=3, byrow=TRUE)\n",
        "b <- c(0,0,0)\n",
        "\n",
        "# view the system of lienar equations\n",
        "print(\"System of linear equations\")\n",
        "showEqn(A,b)\n",
        "\n",
        "# reduce to echelon form\n",
        "echelonA <- echelon(A, b, reduced=FALSE)\n",
        "print(\"Echelon form of the system\")\n",
        "print(echelonA)"
      ]
    },
    {
      "cell_type": "markdown",
      "metadata": {
        "collapsed": false,
        "id": "8axQghV84G3a"
      },
      "source": [
        "Note, there is a free variable in the above system. This implies there are infinitely many solutions which makes sense since we are working with percents and don't know the income / expense size of these sectors. To resolve this, let's assume the Steel sector has income of 50 million dollars. That is,\n",
        "$$\n",
        "p_S = 50.\n",
        "$$\n",
        "where the units are in millions. Let's update the system with this new equation."
      ]
    },
    {
      "cell_type": "code",
      "execution_count": null,
      "metadata": {
        "id": "ZuyOdUJI4G3a"
      },
      "outputs": [],
      "source": [
        "##################\n",
        "# EXAMPLE CELL\n",
        "##################\n",
        "\n",
        "# load a library of matrix operations\n",
        "library(matlib)\n",
        "\n",
        "# matrix and right hand side for our linear system\n",
        "A <- matrix(c(1, -0.4, -0.6,\n",
        "             -0.6, 0.9, -0.2,\n",
        "             -0.4,  -0.5, 0.8,\n",
        "             0,0,1), nrow=4, ncol=3, byrow=TRUE)\n",
        "b <- c(0,0,0,50)\n",
        "\n",
        "# view the system of lienar equations\n",
        "print(\"System of linear equations\")\n",
        "showEqn(A,b)\n",
        "\n",
        "# reduce to echelon form\n",
        "echelonA <- echelon(A, b, reduced=FALSE)\n",
        "print(\"Echelon form of the system\")\n",
        "print(echelonA)\n",
        "\n",
        "# solve the linear system\n",
        "x <- Solve(A,b)"
      ]
    },
    {
      "cell_type": "markdown",
      "metadata": {
        "collapsed": false,
        "id": "xrVp-b9N4G3b"
      },
      "source": [
        "Finally we have solutions\n",
        "$$\n",
        "p_C \\approx 46.97, \\quad p_E \\approx 42.42, \\quad p_S = 50.\n",
        "$$\n",
        "That is, the Coal sector has revenue of \\$46,970,000, the Electric sector has revenue of \\$42,420,000, and the Steel sector has revenue of \\$50,000,000."
      ]
    },
    {
      "cell_type": "markdown",
      "metadata": {
        "collapsed": false,
        "id": "bF8_-yXp4G3b"
      },
      "source": [
        "#### Exercise 1\n",
        "\n",
        "Using the approach of the above example, solve Exercise 4 of Section 1.6 of the text as below.\n",
        "\n",
        "<img src=\"attachment:capture4.png\" width=75%/>"
      ]
    },
    {
      "cell_type": "markdown",
      "metadata": {
        "collapsed": false,
        "id": "1YxOkRrh4G3b"
      },
      "source": [
        "#### Exercise 1 setup (GIVE YOUR OWN EXPLANATION HERE)\n",
        "\n",
        "Use this markdown block to formulate your linear system."
      ]
    },
    {
      "cell_type": "code",
      "execution_count": null,
      "metadata": {
        "id": "KiyFHW9d4G3c"
      },
      "outputs": [],
      "source": [
        "##################\n",
        "# EXERCISE CELL\n",
        "##################\n",
        "\n",
        "# use this exercise cell to show this problem has many solutions\n",
        "\n",
        "##########################\n",
        "# beginning of your code\n",
        "\n",
        "\n",
        "# end of your code\n",
        "##########################"
      ]
    },
    {
      "cell_type": "code",
      "execution_count": null,
      "metadata": {
        "id": "H5sL5-Wx4G3c"
      },
      "outputs": [],
      "source": [
        "##################\n",
        "# EXERCISE CELL\n",
        "##################\n",
        "\n",
        "# assuming the Transportation sector has a budget of 3 million dollars, find the unique solution to this linear system\n",
        "\n",
        "##########################\n",
        "# beginning of your code\n",
        "\n",
        "\n",
        "# end of your code\n",
        "##########################"
      ]
    },
    {
      "cell_type": "markdown",
      "metadata": {
        "collapsed": false,
        "id": "RV9gwAvj4G3c"
      },
      "source": [
        "#### Exercise 1 solution interpretation (GIVE YOUR OWN EXPLANATION HERE)\n",
        "\n",
        "Use this markdown block to interpret the solution found with the above code."
      ]
    },
    {
      "cell_type": "markdown",
      "metadata": {
        "collapsed": false,
        "id": "f-v2YCTU4G3c"
      },
      "source": [
        "## Part 2: Linear independence\n",
        "\n",
        "Here we explore linear independence by:\n",
        "- Testing whether a set of vectors is linearly independent or linearly dependent\n",
        "- Rewriting a vector as a linear combination of a set of linearly independent vectors"
      ]
    },
    {
      "cell_type": "markdown",
      "metadata": {
        "collapsed": false,
        "id": "oJ7GgzCQ4G3d"
      },
      "source": [
        "### Example\n",
        "\n",
        "Here we will test if the columns of the below matrix are linearly independent.\n",
        "$$\n",
        "A = \\left[\n",
        "\\begin{array}{ccc}\n",
        "1 & 2 & 3 \\\\\n",
        "4 & 5 & 6 \\\\\n",
        "7 & 8 & 9\n",
        "\\end{array}\n",
        "\\right]\n",
        "$$"
      ]
    },
    {
      "cell_type": "code",
      "execution_count": null,
      "metadata": {
        "id": "cjBTIRbm4G3d"
      },
      "outputs": [],
      "source": [
        "##################\n",
        "# EXAMPLE CELL\n",
        "##################\n",
        "\n",
        "# load a library of matrix operations\n",
        "library(matlib)\n",
        "\n",
        "# matrix and right hand side for our linear system\n",
        "A <- matrix(c(1, 2, 3,\n",
        "             4, 5, 6,\n",
        "             7, 8, 9), nrow=3, ncol=3, byrow=TRUE)\n",
        "\n",
        "echA <- echelon(A, reduced=TRUE)\n",
        "print(\"Check reduced row echelon form of A\")\n",
        "print(echA)\n",
        "print(\"Count the number of pivots of A by summing the diagonal.\")\n",
        "print(sum(diag(echA)))\n",
        "print(\"Looks like the columns of A are not linearly independent since there is not a full set of pivots.\")\n",
        "print(\"Can write the 3rd column of A as a linear combination of the previous 2\")\n",
        "weights <- echA[,3]\n",
        "print(A[,3])\n",
        "print(weights[1]*A[,1]+weights[2]*A[,2])"
      ]
    },
    {
      "cell_type": "markdown",
      "metadata": {
        "collapsed": false,
        "id": "5QrMN2qJ4G3d"
      },
      "source": [
        "#### Exercise 2\n",
        "\n",
        "Use the below code block to create your own function which checks if the columns of a matrix are linearly independent or linearly dependent. Test your function on the following matrices.\n",
        "$$\n",
        "A = \\left[\n",
        "\\begin{array}{ccc}\n",
        "1 & 2 & 3 \\\\\n",
        "4 & 5 & 6 \\\\\n",
        "7 & 8 & 0\n",
        "\\end{array}\n",
        "\\right], \\quad B = \\left[\n",
        "\\begin{array}{ccc}\n",
        "1 & 2 & 0 \\\\\n",
        "4 & 5 & 0 \\\\\n",
        "7 & 8 & 0\n",
        "\\end{array}\n",
        "\\right], \\quad C = \\left[\n",
        "\\begin{array}{ccc}\n",
        "1 & 2 & 3 \\\\\n",
        "4 & 5 & 6 \\\\\n",
        "7 & 8 & 9\n",
        "\\end{array}\n",
        "\\right], \\quad D = \\left[\n",
        "\\begin{array}{cc}\n",
        "1 & 2  \\\\\n",
        "4 & 5  \\\\\n",
        "7 & 8\n",
        "\\end{array}\n",
        "\\right]\n",
        ", \\quad E = \\left[\n",
        "\\begin{array}{ccccc}\n",
        "8 & -3 & 0 & -7 & 2 \\\\\n",
        "-9 & 4 & 5 & 11 & -7 \\\\\n",
        "6 & -2 & 2 & -4 & 4 \\\\\n",
        "5 & -1 & 7 & 0 & 10\n",
        "\\end{array}\n",
        "\\right]\n",
        "$$\n",
        "\n"
      ]
    },
    {
      "cell_type": "code",
      "execution_count": null,
      "metadata": {
        "id": "brqwPTEM4G3d"
      },
      "outputs": [],
      "source": [
        "##################\n",
        "# EXERCISE CELL\n",
        "##################\n",
        "\n",
        "# create a function here which inputs a matrix A and returns a 0 (or \"lin dep\") if the columns of the matrix are linearly dependent and a 1 (or \"lin indep\") if the columns are linearly independent\n",
        "# HINT: You should use the echelon() function as in the examples in Part 1. To sum the row of a matrix, use the sum() command.\n",
        "\n",
        "##########################\n",
        "# beginning of your code\n",
        "\n",
        "\n",
        "# end of your code\n",
        "##########################\n",
        "\n",
        "\n",
        "# test the above function on the five matrices provided above\n",
        "\n",
        "##########################\n",
        "# beginning of your code\n",
        "\n",
        "\n",
        "# end of your code\n",
        "##########################\n"
      ]
    },
    {
      "cell_type": "markdown",
      "metadata": {
        "collapsed": false,
        "id": "1QcUilhz4G3d"
      },
      "source": [
        "#### Exercise 3\n",
        "\n",
        "For matrix $E$ above, you should have found that the columns of matrix $E$ are linearly dependent. Use the following code block to\n",
        "\n",
        "- Write the 1st column of $E$ as linear combination of the rest.\n",
        "- Write the 5th column of $E$ as linear combination of the rest.\n",
        "- BONUS: Find the largest set of linearly independent columns of $E$.\n",
        "\n"
      ]
    },
    {
      "cell_type": "code",
      "execution_count": null,
      "metadata": {
        "id": "-cTOdS2b4G3d"
      },
      "outputs": [],
      "source": [
        "##################\n",
        "# EXERCISE CELL\n",
        "##################\n",
        "\n",
        "##########################\n",
        "# beginning of your code\n",
        "\n",
        "# end of your code\n",
        "##########################"
      ]
    },
    {
      "cell_type": "markdown",
      "source": [
        "## Bonus: Solve exercise 14 in Section 1.6 of the text."
      ],
      "metadata": {
        "id": "_fkts-_X-jKZ"
      }
    },
    {
      "cell_type": "code",
      "source": [],
      "metadata": {
        "id": "qPJ7-2zP-qZZ"
      },
      "execution_count": null,
      "outputs": []
    }
  ],
  "metadata": {
    "kernelspec": {
      "display_name": "R (system-wide)",
      "language": "r",
      "metadata": {
        "cocalc": {
          "description": "R statistical programming language",
          "priority": 10,
          "url": "https://www.r-project.org/"
        }
      },
      "name": "ir",
      "resource_dir": "/ext/jupyter/kernels/ir"
    },
    "language_info": {
      "codemirror_mode": "r",
      "file_extension": ".r",
      "mimetype": "text/x-r-source",
      "name": "R",
      "pygments_lexer": "r",
      "version": "4.2.2"
    },
    "colab": {
      "provenance": [],
      "include_colab_link": true
    }
  },
  "nbformat": 4,
  "nbformat_minor": 0
}