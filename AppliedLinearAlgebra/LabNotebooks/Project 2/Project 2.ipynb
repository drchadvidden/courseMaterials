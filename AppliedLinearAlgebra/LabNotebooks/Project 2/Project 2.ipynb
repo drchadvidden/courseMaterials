{
 "cells": [
  {
   "cell_type": "markdown",
   "metadata": {
    "collapsed": false
   },
   "source": [
    "# Project 2: Sports Ranking\n",
    "\n",
    "MTH 308: Applied Linear Algebra <br>\n",
    "Spring 2022\n",
    "\n",
    "Project parts: \n",
    "\n",
    "- Part 1: Colley method\n",
    "- Part 2: Massey method\n",
    "- Part 3: Weighting methods\n",
    "- Part 4: Application to real data\n",
    "- Part 5: Group member contributions\n",
    "\n"
   ]
  },
  {
   "cell_type": "markdown",
   "metadata": {
    "collapsed": false
   },
   "source": [
    "## Instructions\n",
    "\n",
    "Complete each part as instructed. You are encouraged to work in groups, though you may work independently if you choose.\n",
    "\n",
    "<u>Submission:</u> Complete the following notebook in order. Once done, print the notebook and save as an HTML file. Upload your submission to the Canvas course page.\n",
    "\n",
    "<u>Rubric:</u> 40 total points, 10 points for each part.\n",
    "\n",
    "<u>Deadline:</u> Friday, December 10 at midnight."
   ]
  },
  {
   "cell_type": "markdown",
   "metadata": {
    "collapsed": false
   },
   "source": [
    "## Project description\n",
    "In sports, ranking teams is done in a number of ways. Win percentage is a very simple approach, though a drawback is you only know how a team compares to the other teams it played. For large groups of teams it is not possible for each team to play every other team. Here you will apply linear algebra ideas to overcome this challenge in two ways.\n",
    "\n",
    "For this project, you will read a paper ([PAPER LINK](https://www.researchgate.net/publication/228435078_Bracketology_How_can_math_help)), explain approaches, and reproduce major findings.\n",
    "\n",
    "I encourage you to use the matlib R package as much as possible."
   ]
  },
  {
   "cell_type": "markdown",
   "metadata": {
    "collapsed": false
   },
   "source": [
    "## Part 1: Colley method\n",
    "\n",
    "Carefully read section 2 of the sports ranking paper and complete the following:\n",
    "- Give a complete explanation of Colley's method. Reference ideas from this course where approapriate. You should draw on explanations from the paper, though your writing should be of your own thoughts. You should not take screenshots of the paper here.\n",
    "- Using a difference reference, explain Laplace's rule of succession and how this applies to sports ranking. Cite the reference you use here.\n",
    "- Write R code to reproduce all data, matrices, and findings from the paper."
   ]
  },
  {
   "cell_type": "markdown",
   "metadata": {
    "collapsed": false
   },
   "source": [
    "## Part 2: Massey method\n",
    "\n",
    "Carefully read section 3 of the sports ranking paper and complete the following:\n",
    "- Give a complete explanation of Colley's method. Reference ideas from this course where approapriate. You should draw on explanations from the paper, though your writing should be of your own thoughts. You should not take screenshots of the paper here.\n",
    "- Using a difference reference, explain the method of least squares and how this applies to sports ranking. Our text has a section on this topic.\n",
    "- Write R code to reproduce all data, matrices, and findings from the paper."
   ]
  },
  {
   "cell_type": "markdown",
   "metadata": {
    "collapsed": false
   },
   "source": [
    "## Part 3: Weighting methods\n",
    "\n",
    "Carefully read section 4 of the sports ranking paper and complete the following:\n",
    "- Give a complete explanation of linear weighting for the Colley and Massey method. Reference ideas from this course where approapriate. You should draw on explanations from the paper, though your writing should be of your own thoughts. You should not take screenshots of the paper here.\n",
    "- Write R code to implement linear weighting for the Colley and Massey method applied to the data in the paper."
   ]
  },
  {
   "cell_type": "markdown",
   "metadata": {
    "collapsed": false
   },
   "source": [
    "## Part 4: Application to real data\n",
    "\n",
    "Apply the Colley and Massey methods to real sports data using the website [masseyratings.com](https://masseyratings.com/data)\n",
    "- Explain the key findings of your code.\n",
    "- Compare your findings to another source."
   ]
  },
  {
   "cell_type": "markdown",
   "metadata": {
    "collapsed": false
   },
   "source": [
    "## Part 5: Group member contributions\n",
    "\n",
    "Give a summary of each group members contribution to this project. This summary should include:\n",
    "- Approximate total time each member spent on the project.\n",
    "- Which parts each member contributed to on the project."
   ]
  },
  {
   "cell_type": "code",
   "execution_count": 0,
   "metadata": {
    "collapsed": false
   },
   "outputs": [
   ],
   "source": [
   ]
  }
 ],
 "metadata": {
  "kernelspec": {
   "display_name": "R (system-wide)",
   "language": "r",
   "metadata": {
    "cocalc": {
     "description": "R statistical programming language",
     "priority": 10,
     "url": "https://www.r-project.org/"
    }
   },
   "name": "ir",
   "resource_dir": "/ext/jupyter/kernels/ir"
  },
  "language_info": {
   "codemirror_mode": "r",
   "file_extension": ".r",
   "mimetype": "text/x-r-source",
   "name": "R",
   "pygments_lexer": "r",
   "version": "4.1.1"
  }
 },
 "nbformat": 4,
 "nbformat_minor": 4
}