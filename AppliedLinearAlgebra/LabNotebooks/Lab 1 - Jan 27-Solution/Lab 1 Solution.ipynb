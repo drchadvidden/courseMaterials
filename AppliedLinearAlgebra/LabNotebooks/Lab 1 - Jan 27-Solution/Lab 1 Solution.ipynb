{
 "cells": [
  {
   "cell_type": "markdown",
   "metadata": {
    "collapsed": false
   },
   "source": [
    "# Lab 1: R tutorial, if statements, for loops, and Gaussian elimination\n",
    "\n",
    "MTH 308: Applied Linear Algebra <br>\n",
    "Spring 2022\n",
    "\n",
    "Lab parts:\n",
    "- Part 1: R tutorial\n",
    "- Part 2: If statements and for loops, Exercise 1\n",
    "- Part 3: Gaussian elimination, Exercise 2 and 3"
   ]
  },
  {
   "cell_type": "markdown",
   "metadata": {
    "collapsed": false
   },
   "source": [
    "## Instructions\n",
    "\n",
    "Run each of the coding cells. For example cells, understand the commands and check that the outputs make sense. For exercise cells, write your own code where indicated to generate the correct output.\n",
    "\n",
    "<u>Submission:</u> Complete the following notebook in order. Once done, print the notebook and save as an HTML file. Upload your submission to the Canvas course page.\n",
    "\n",
    "<u>Rubric:</u> 15 total points, 3 points to running example cells and saving outputs, 4 points per exercise block with correct output saved.\n",
    "\n",
    "<u>Deadline:</u> Monday at midnight after the lab is assigned."
   ]
  },
  {
   "cell_type": "markdown",
   "metadata": {
    "collapsed": false
   },
   "source": [
    "## Part 1: R tutorial\n",
    "\n",
    "Learn basic concepts in R including:\n",
    "- Creating variables, operations on variables\n",
    "- Creating and calling functions\n",
    "- Creating vectors, operations on vectors\n",
    "- Creating matrices, operations on matrices\n",
    "- Plotting data"
   ]
  },
  {
   "cell_type": "markdown",
   "metadata": {
    "collapsed": false
   },
   "source": [
    "#### Variables"
   ]
  },
  {
   "cell_type": "code",
   "execution_count": 1,
   "metadata": {
    "collapsed": false
   },
   "outputs": [
    {
     "name": "stdout",
     "output_type": "stream",
     "text": [
      "[1] 7\n"
     ]
    },
    {
     "name": "stdout",
     "output_type": "stream",
     "text": [
      "[1] 4\n"
     ]
    },
    {
     "name": "stdout",
     "output_type": "stream",
     "text": [
      "[1] Inf\n"
     ]
    },
    {
     "name": "stdout",
     "output_type": "stream",
     "text": [
      "[1] \"numeric\"\n"
     ]
    },
    {
     "name": "stdout",
     "output_type": "stream",
     "text": [
      "[1] FALSE\n"
     ]
    },
    {
     "name": "stdout",
     "output_type": "stream",
     "text": [
      "[1] TRUE\n"
     ]
    }
   ],
   "source": [
    "##################\n",
    "# EXAMPLE CELL\n",
    "##################\n",
    "\n",
    "# This is a comment in the R language. Everything after a # symbol is ignored when the script is run.\n",
    "\n",
    "# Press \"SHIFT\" + \"ENTER\" to execute each coding cell. You should follow the commands and ensure the results make sense.\n",
    "\n",
    "# create a new variable, note the arrow symbol '<-' is used for assignment\n",
    "x <- 2\n",
    "\n",
    "# some basic operations, display the outputs below\n",
    "print(3*x + 1)\n",
    "print(x^2)\n",
    "print(x/0) # how a machine handles zero division\n",
    "print(class(x)) # check the data type of x\n",
    "print(x < 2) # logical test if x is less than 2\n",
    "print(x == 2) # logical test if x is equal to 2"
   ]
  },
  {
   "cell_type": "markdown",
   "metadata": {
    "collapsed": false
   },
   "source": [
    "#### Functions"
   ]
  },
  {
   "cell_type": "code",
   "execution_count": 2,
   "metadata": {
    "collapsed": false
   },
   "outputs": [
    {
     "name": "stdout",
     "output_type": "stream",
     "text": [
      "[1] 13\n"
     ]
    }
   ],
   "source": [
    "##################\n",
    "# EXAMPLE CELL\n",
    "##################\n",
    "\n",
    "# create a function f(x)=3x^2+1\n",
    "f <- function(x) {\n",
    "   y = 3*x^2+1\n",
    "}\n",
    "\n",
    "# evaluate f(x) for x as defined in previous cell\n",
    "print(f(x))"
   ]
  },
  {
   "cell_type": "markdown",
   "metadata": {
    "collapsed": false
   },
   "source": [
    "#### Vectors"
   ]
  },
  {
   "cell_type": "code",
   "execution_count": 3,
   "metadata": {
    "collapsed": false
   },
   "outputs": [
    {
     "name": "stdout",
     "output_type": "stream",
     "text": [
      "[1] 1 2 3 4 5 6\n"
     ]
    },
    {
     "name": "stdout",
     "output_type": "stream",
     "text": [
      "[1] 6\n"
     ]
    },
    {
     "name": "stdout",
     "output_type": "stream",
     "text": [
      "[1]  1  4  7 10 13 16 19\n"
     ]
    },
    {
     "name": "stdout",
     "output_type": "stream",
     "text": [
      "[1] 7\n"
     ]
    },
    {
     "name": "stdout",
     "output_type": "stream",
     "text": [
      "[1] 2 3 4 5\n"
     ]
    },
    {
     "name": "stdout",
     "output_type": "stream",
     "text": [
      "[1]  2  4  6  8 10 12\n"
     ]
    },
    {
     "name": "stdout",
     "output_type": "stream",
     "text": [
      "[1]  1  4  9 16 25 36\n"
     ]
    },
    {
     "name": "stderr",
     "output_type": "stream",
     "text": [
      "Warning message in a * b:\n",
      "“longer object length is not a multiple of shorter object length”\n"
     ]
    },
    {
     "name": "stdout",
     "output_type": "stream",
     "text": [
      "[1]  1  8 21 40 65 96 19\n"
     ]
    }
   ],
   "source": [
    "##################\n",
    "# EXAMPLE CELL\n",
    "##################\n",
    "\n",
    "# vector creation using c() notation\n",
    "a <- c(1,2,3,4,5,6)\n",
    "\n",
    "print(a)\n",
    "print(length(a)) # vector length\n",
    "\n",
    "# vector creation using sequence generation\n",
    "b <- seq(1,20, by=3)\n",
    "\n",
    "print(b)\n",
    "print(length(b)) # vector length\n",
    "\n",
    "# vector operations\n",
    "print(a[2:5]) # subset a vector, 2nd thru 5th entries\n",
    "print(2*a) # scalar multiplication\n",
    "print(a*a) # entry wise vector multiplication\n",
    "print(a*b) # dimension must agree for vector multiplication to work, warning generated"
   ]
  },
  {
   "cell_type": "markdown",
   "metadata": {
    "collapsed": false
   },
   "source": [
    "#### Matrices"
   ]
  },
  {
   "cell_type": "code",
   "execution_count": 4,
   "metadata": {
    "collapsed": false
   },
   "outputs": [
    {
     "name": "stdout",
     "output_type": "stream",
     "text": [
      "     [,1] [,2] [,3]\n",
      "[1,]    1    4    7\n",
      "[2,]    2    5    8\n",
      "[3,]    3    6    9\n"
     ]
    },
    {
     "name": "stdout",
     "output_type": "stream",
     "text": [
      "     [,1] [,2] [,3]\n",
      "[1,]    1    0    0\n",
      "[2,]    0    1    0\n",
      "[3,]    0    0    1\n"
     ]
    },
    {
     "name": "stdout",
     "output_type": "stream",
     "text": [
      "[1] 3 3\n"
     ]
    },
    {
     "name": "stdout",
     "output_type": "stream",
     "text": [
      "[1] 4\n"
     ]
    },
    {
     "name": "stdout",
     "output_type": "stream",
     "text": [
      "     [,1] [,2] [,3]\n",
      "[1,]    1    4    7\n",
      "[2,]    2    5    8\n"
     ]
    },
    {
     "name": "stdout",
     "output_type": "stream",
     "text": [
      "     [,1] [,2]\n",
      "[1,]    4    7\n",
      "[2,]    5    8\n",
      "[3,]    6    9\n"
     ]
    },
    {
     "name": "stdout",
     "output_type": "stream",
     "text": [
      "     [,1] [,2] [,3]\n",
      "[1,]    2    4    7\n",
      "[2,]    2    6    8\n",
      "[3,]    3    6   10\n"
     ]
    },
    {
     "name": "stdout",
     "output_type": "stream",
     "text": [
      "     [,1] [,2] [,3]\n",
      "[1,]    1    2    3\n",
      "[2,]    4    5    6\n",
      "[3,]    7    8    9\n"
     ]
    }
   ],
   "source": [
    "##################\n",
    "# EXAMPLE CELL\n",
    "##################\n",
    "\n",
    "# create a matrix\n",
    "M = matrix(1:9, nrow=3, ncol=3) # 3 x 3 matrix with entries 1 thru 9\n",
    "I = diag(1, nrow=3) # diagonal matrix\n",
    "\n",
    "print(M)\n",
    "print(I)\n",
    "\n",
    "# dimension of a matrix\n",
    "print(dim(M))\n",
    "\n",
    "# subset a matrix\n",
    "print(M[1, 2]) # first row, second column entry\n",
    "print(M[1:2, ]) # only first and second row entries\n",
    "print(M[, 2:3]) # only second and third columns entries\n",
    "\n",
    "# add matrices\n",
    "print(M+I)\n",
    "\n",
    "# transpose of a matrix\n",
    "print(t(M))"
   ]
  },
  {
   "cell_type": "markdown",
   "metadata": {
    "collapsed": false
   },
   "source": [
    "#### Plotting data"
   ]
  },
  {
   "cell_type": "code",
   "execution_count": 5,
   "metadata": {
    "collapsed": false
   },
   "outputs": [
    {
     "name": "stdout",
     "output_type": "stream",
     "text": [
      " [1] -1.0 -0.9 -0.8 -0.7 -0.6 -0.5 -0.4 -0.3 -0.2 -0.1  0.0  0.1  0.2  0.3  0.4\n",
      "[16]  0.5  0.6  0.7  0.8  0.9  1.0\n"
     ]
    },
    {
     "name": "stdout",
     "output_type": "stream",
     "text": [
      " [1] 4.00 3.43 2.92 2.47 2.08 1.75 1.48 1.27 1.12 1.03 1.00 1.03 1.12 1.27 1.48\n",
      "[16] 1.75 2.08 2.47 2.92 3.43 4.00\n"
     ]
    },
    {
     "data": {
      "image/png": "[encoded data removed]",
      "text/plain": [
       "plot without title"
      ]
     },
     "execution_count": 5,
     "metadata": {
      "image/png": {
       "height": 420,
       "width": 420
      }
     },
     "output_type": "execute_result"
    }
   ],
   "source": [
    "##################\n",
    "# EXAMPLE CELL\n",
    "##################\n",
    "\n",
    "x = seq(-1,1, by=0.1) # x-values to consider\n",
    "y = f(x) # function values at x for above function f(x)=3x^2+1\n",
    "\n",
    "print(x)\n",
    "print(y)\n",
    "\n",
    "# scatter plot for all (x,y) coordinate pairs\n",
    "plot(x,y)"
   ]
  },
  {
   "cell_type": "markdown",
   "metadata": {
    "collapsed": false
   },
   "source": [
    "## Part 2: If statements and for loops\n",
    "\n",
    "Learn essential coding operations including:\n",
    "- If statements\n",
    "- If, else statements\n",
    "- For loops"
   ]
  },
  {
   "cell_type": "markdown",
   "metadata": {
    "collapsed": false
   },
   "source": [
    "#### If statements\n",
    "\n",
    "Check if a statement is true. If true, execute the code following the if statement."
   ]
  },
  {
   "cell_type": "code",
   "execution_count": 6,
   "metadata": {
    "collapsed": false
   },
   "outputs": [
    {
     "name": "stdout",
     "output_type": "stream",
     "text": [
      "[1] \"Yes equals 2\"\n"
     ]
    },
    {
     "name": "stdout",
     "output_type": "stream",
     "text": [
      "[1] TRUE\n"
     ]
    },
    {
     "name": "stdout",
     "output_type": "stream",
     "text": [
      "[1] FALSE\n"
     ]
    }
   ],
   "source": [
    "##################\n",
    "# EXAMPLE CELL\n",
    "##################\n",
    "\n",
    "x <- 2 # assign a variable to use\n",
    "\n",
    "# check if x equals 2\n",
    "if (x==2){ # all code within curly braces {} is executed if statement is true\n",
    "    print(\"Yes equals 2\")\n",
    "}\n",
    "print(x==2) # resulting boolean tested in if statement\n",
    "\n",
    "\n",
    "# check if x is greater than 2\n",
    "if (x>2){\n",
    "    print(\"Yes greater than 2\")\n",
    "}\n",
    "print(x>2) # resulting boolean tested in if statement\n"
   ]
  },
  {
   "cell_type": "markdown",
   "metadata": {
    "collapsed": false
   },
   "source": [
    "#### If, else statements\n",
    "\n",
    "Check if a statement is true. If true, execute code following the if statement. If false, execute the code following the else statement."
   ]
  },
  {
   "cell_type": "code",
   "execution_count": 7,
   "metadata": {
    "collapsed": false
   },
   "outputs": [
    {
     "name": "stdout",
     "output_type": "stream",
     "text": [
      "[1] \"Not greater than 2\"\n"
     ]
    },
    {
     "name": "stdout",
     "output_type": "stream",
     "text": [
      "[1] FALSE\n"
     ]
    }
   ],
   "source": [
    "##################\n",
    "# EXAMPLE CELL\n",
    "##################\n",
    "\n",
    "# check if x is greater than 2\n",
    "if (x>2){\n",
    "    print(\"Yes greater than 2\")\n",
    "} else {\n",
    "    print(\"Not greater than 2\")\n",
    "}\n",
    "\n",
    "print(x>2) # resulting boolean tested in if statement"
   ]
  },
  {
   "cell_type": "markdown",
   "metadata": {
    "collapsed": false
   },
   "source": [
    "#### For loops\n",
    "\n",
    "Repeat a block of code multiple times as an index $n$ ranges from 1 to upper bound $N$."
   ]
  },
  {
   "cell_type": "code",
   "execution_count": 8,
   "metadata": {
    "collapsed": false
   },
   "outputs": [
    {
     "name": "stdout",
     "output_type": "stream",
     "text": [
      "[1] 1\n",
      "[1] 2\n",
      "[1] 3\n",
      "[1] 4\n",
      "[1] 5\n",
      "[1] 6\n",
      "[1] 7\n",
      "[1] 8\n",
      "[1] 9\n",
      "[1] 10\n"
     ]
    }
   ],
   "source": [
    "##################\n",
    "# EXAMPLE CELL\n",
    "##################\n",
    "\n",
    "# simple for loop illustration\n",
    "for (n in 1:10){ # index n starts at 1 and increase each time by 1 until 10\n",
    "    print(n)\n",
    "}"
   ]
  },
  {
   "cell_type": "code",
   "execution_count": 9,
   "metadata": {
    "collapsed": false
   },
   "outputs": [
    {
     "name": "stdout",
     "output_type": "stream",
     "text": [
      "[1] 24\n"
     ]
    }
   ],
   "source": [
    "##################\n",
    "# EXAMPLE CELL\n",
    "##################\n",
    "\n",
    "# for loop to computer x! (x factorial)\n",
    "x <- 4\n",
    "xfactorial <- 1\n",
    "for (n in 1:x){\n",
    "    xfactorial <- n*xfactorial # keep multiplying by index n, update variable value each time\n",
    "}\n",
    "print(xfactorial)\n"
   ]
  },
  {
   "cell_type": "code",
   "execution_count": 10,
   "metadata": {
    "collapsed": false
   },
   "outputs": [
    {
     "name": "stdout",
     "output_type": "stream",
     "text": [
      "[1] 2\n"
     ]
    },
    {
     "name": "stdout",
     "output_type": "stream",
     "text": [
      "[1] 0\n"
     ]
    },
    {
     "name": "stdout",
     "output_type": "stream",
     "text": [
      "[1] 3\n"
     ]
    },
    {
     "name": "stdout",
     "output_type": "stream",
     "text": [
      " [1] -5.0 -4.5 -4.0 -3.5 -3.0 -2.5 -2.0 -1.5 -1.0 -0.5  0.0  0.5  1.0  1.5  2.0\n",
      "[16]  2.5  3.0  3.5  4.0  4.5  5.0\n"
     ]
    },
    {
     "name": "stdout",
     "output_type": "stream",
     "text": [
      " [1] 5.0 4.5 4.0 3.5 3.0 2.5 2.0 1.5 1.0 0.5 0.0 0.5 1.0 1.5 2.0 2.5 3.0 3.5 4.0\n",
      "[20] 4.5 5.0\n"
     ]
    },
    {
     "data": {
      "image/png": "[encoded data removed]",
      "text/plain": [
       "plot without title"
      ]
     },
     "execution_count": 10,
     "metadata": {
      "image/png": {
       "height": 420,
       "width": 420
      }
     },
     "output_type": "execute_result"
    }
   ],
   "source": [
    "##################\n",
    "# EXAMPLE CELL\n",
    "##################\n",
    "\n",
    "# we can use an if else statement to create the absolute value function, plot the result\n",
    "\n",
    "# absolute value function\n",
    "absval <- function(x) {\n",
    "    if (x>=0){ # return x if positive or zero\n",
    "        y=x\n",
    "    } else { # if negative, return the positive version\n",
    "        y=-x\n",
    "    }\n",
    "}\n",
    "\n",
    "# check that the function works\n",
    "print(absval(2))\n",
    "print(absval(0))\n",
    "print(absval(-3))\n",
    "\n",
    "# plot the function for some points\n",
    "x = seq(-5,5,0.5)\n",
    "\n",
    "# use a for loop to evaluate absval() function at each entry of x\n",
    "y = c()\n",
    "for (n in 1:length(x)){\n",
    "    y[n] = absval(x[n])\n",
    "}\n",
    "\n",
    "print(x)\n",
    "print(y)\n",
    "\n",
    "plot(x,y)\n"
   ]
  },
  {
   "cell_type": "markdown",
   "metadata": {
    "collapsed": false
   },
   "source": [
    "## Exercise 1"
   ]
  },
  {
   "cell_type": "markdown",
   "metadata": {
    "collapsed": false
   },
   "source": [
    "Plot the following Collatz function for integer values of $n = 1,2,\\dots,20$.\n",
    "\n",
    "$ \\displaystyle\n",
    "collatz(n)= \n",
    "\\begin{cases}\n",
    "\\frac {n}{2} & \\text{if } n \\text{ is even},\\\\\n",
    "\\frac {3n+1}{2} & \\text{if } n \\text{ is odd}.\n",
    "\\end{cases}\n",
    "$\n",
    "\n",
    "Hint: $n$ is even if $n \\pmod 2 = 0$. Use \"n %% 2 == 0\" for the R command here."
   ]
  },
  {
   "cell_type": "code",
   "execution_count": 11,
   "metadata": {
    "collapsed": false
   },
   "outputs": [
    {
     "name": "stdout",
     "output_type": "stream",
     "text": [
      " [1]  1  2  3  4  5  6  7  8  9 10 11 12 13 14 15 16 17 18 19 20\n"
     ]
    },
    {
     "name": "stdout",
     "output_type": "stream",
     "text": [
      " [1]  2  1  5  2  8  3 11  4 14  5 17  6 20  7 23  8 26  9 29 10\n"
     ]
    },
    {
     "data": {
      "image/png": "[encoded data removed]",
      "text/plain": [
       "plot without title"
      ]
     },
     "execution_count": 11,
     "metadata": {
      "image/png": {
       "height": 420,
       "width": 420
      }
     },
     "output_type": "execute_result"
    }
   ],
   "source": [
    "##################\n",
    "# EXERCISE CELL\n",
    "##################\n",
    "\n",
    "# collatz function\n",
    "collatz <- function(n) {\n",
    "    \n",
    "    y = 0 # you should update this value below\n",
    "    \n",
    "    ###################\n",
    "    # beginning of your code\n",
    "    \n",
    "    if (n %% 2 == 0){\n",
    "        y = n/2\n",
    "    } else {\n",
    "        y = (3*n+1)/2\n",
    "    }\n",
    "    \n",
    "    return(y)\n",
    "    \n",
    "    # end of your code\n",
    "    ###################\n",
    "}\n",
    "\n",
    "# plot the function for some integers\n",
    "n = 1:20\n",
    "\n",
    "# use a for loop to evaluate collatz() function at each entry of n\n",
    "y = c()\n",
    "for (i in c(1:length(n))){\n",
    "    y[i] = collatz(n[i])\n",
    "}\n",
    "\n",
    "print(n)\n",
    "print(y)\n",
    "\n",
    "# visualize the result\n",
    "plot(n,y)\n"
   ]
  },
  {
   "cell_type": "markdown",
   "metadata": {
    "collapsed": false
   },
   "source": [
    "The Collatz conjecture states that for any integer $n$, repeatedly apply the Collatz function will always result in a 1 eventually. For example:\n",
    "\n",
    "$\n",
    "n = 5, ~ f(5) = 3(5)+1=16, ~ f(16)= \\frac{16}{2}=8, ~f(8)=\\frac{8}{2}=4, ~f(4)=\\frac{4}{2}=2, ~f(2) = \\frac{2}{2}=1\n",
    "$\n",
    "\n",
    "Verify the Collatz conjecture for $n=5, 12, $ and $27$. Create a function which iterates the Collatz function. Plot generated sequence for indices $i$ starting at 1."
   ]
  },
  {
   "cell_type": "code",
   "execution_count": 12,
   "metadata": {
    "collapsed": false
   },
   "outputs": [
    {
     "name": "stdout",
     "output_type": "stream",
     "text": [
      "[1] 1 2 3 4 5\n"
     ]
    },
    {
     "name": "stdout",
     "output_type": "stream",
     "text": [
      "[1] 5 8 4 2 1\n"
     ]
    },
    {
     "name": "stdout",
     "output_type": "stream",
     "text": [
      "[1] 1 2 3 4 5 6 7 8\n"
     ]
    },
    {
     "name": "stdout",
     "output_type": "stream",
     "text": [
      "[1] 12  6  3  5  8  4  2  1\n"
     ]
    },
    {
     "data": {
      "image/png": "[encoded data removed]",
      "text/plain": [
       "Plot with title “n=5”"
      ]
     },
     "execution_count": 12,
     "metadata": {
      "image/png": {
       "height": 420,
       "width": 420
      }
     },
     "output_type": "execute_result"
    },
    {
     "name": "stdout",
     "output_type": "stream",
     "text": [
      " [1]  1  2  3  4  5  6  7  8  9 10 11 12 13 14 15 16 17 18 19 20 21 22 23 24 25\n",
      "[26] 26 27 28 29 30 31 32 33 34 35 36 37 38 39 40 41 42 43 44 45 46 47 48 49 50\n",
      "[51] 51 52 53 54 55 56 57 58 59 60 61 62 63 64 65 66 67 68 69 70 71\n"
     ]
    },
    {
     "name": "stdout",
     "output_type": "stream",
     "text": [
      " [1]   27   41   62   31   47   71  107  161  242  121  182   91  137  206  103\n",
      "[16]  155  233  350  175  263  395  593  890  445  668  334  167  251  377  566\n",
      "[31]  283  425  638  319  479  719 1079 1619 2429 3644 1822  911 1367 2051 3077\n",
      "[46] 4616 2308 1154  577  866  433  650  325  488  244  122   61   92   46   23\n",
      "[61]   35   53   80   40   20   10    5    8    4    2    1\n"
     ]
    },
    {
     "data": {
      "image/png": "[encoded data removed]",
      "text/plain": [
       "Plot with title “n=12”"
      ]
     },
     "execution_count": 12,
     "metadata": {
      "image/png": {
       "height": 420,
       "width": 420
      }
     },
     "output_type": "execute_result"
    },
    {
     "data": {
      "image/png": "[encoded data removed]",
      "text/plain": [
       "Plot with title “n=27”"
      ]
     },
     "execution_count": 12,
     "metadata": {
      "image/png": {
       "height": 420,
       "width": 420
      }
     },
     "output_type": "execute_result"
    }
   ],
   "source": [
    "##################\n",
    "# EXERCISE CELL\n",
    "##################\n",
    "\n",
    "\n",
    "collatzIter = function(n){\n",
    "    \n",
    "    maxIter = 200 # max iteration count\n",
    "    y = n # first entry in Collatz iteration sequence\n",
    "    \n",
    "    # for loop to iterate application of the Collatz function\n",
    "    for (i in c(1:(maxIter-1))){\n",
    "        \n",
    "        y[i+1] <- 0 # you should update this value below\n",
    "        \n",
    "        ###################\n",
    "        # beginning of your code\n",
    "\n",
    "        y[i+1] <- collatz(y[i])\n",
    "        \n",
    "        # end of your code\n",
    "        ###################\n",
    "        \n",
    "        # stop if iteration produces the number 1\n",
    "        if (y[i+1] == 1){\n",
    "            break\n",
    "        }\n",
    "        \n",
    "    }\n",
    "    \n",
    "    # return both the list of Colatz function values as well as the iteration indices\n",
    "    results <- list(\"y\" = y, \"i\" = c(1:(i+1)))\n",
    "    return(results)\n",
    "}\n",
    "\n",
    "\n",
    "# compute n=5 Collatz sequence, view the results, plot it\n",
    "n = 5\n",
    "results = collatzIter(n)\n",
    "y = results$y\n",
    "i = results$i\n",
    "\n",
    "print(i)\n",
    "print(y)\n",
    "\n",
    "plot(i,y, main='n=5')\n",
    "\n",
    "# compute n=12 Collatz sequence, view the results, plot it\n",
    "n = 12\n",
    "results = collatzIter(n)\n",
    "y = results$y\n",
    "i = results$i\n",
    "\n",
    "print(i)\n",
    "print(y)\n",
    "\n",
    "plot(i,y, main='n=12')\n",
    "\n",
    "# compute n=27 Collatz sequence, view the results, plot it\n",
    "n = 27\n",
    "results = collatzIter(n)\n",
    "y = results$y\n",
    "i = results$i\n",
    "\n",
    "print(i)\n",
    "print(y)\n",
    "\n",
    "plot(i,y, main='n=27')"
   ]
  },
  {
   "cell_type": "markdown",
   "metadata": {
    "collapsed": false
   },
   "source": [
    "The Collatz conjecture is a super famous open problem which is simply stated but is very complex to solve. It quickly encroaches with a number of branches of mathematics and a many famous mathematicians have worked on this problem. For more interestingness, see https://en.wikipedia.org/wiki/Collatz_conjecture."
   ]
  },
  {
   "cell_type": "markdown",
   "metadata": {
    "collapsed": false
   },
   "source": [
    "## Part 3: Gaussian elmination\n",
    "\n",
    "Learn to solve linear systems by:\n",
    "- Coding Gaussian elimination from scratch using nested for loops\n",
    "- Using built in R commands"
   ]
  },
  {
   "cell_type": "markdown",
   "metadata": {
    "collapsed": false
   },
   "source": [
    "#### Exercise 2\n",
    "\n",
    "Here you will code Gaussian elimination to solve the $3 \\times 3$ linear system $A \\vec{x} = \\vec{b}$ as follows.\n",
    "\n",
    "$\n",
    "\\displaystyle\n",
    "\\left[\n",
    "\\begin{array}{ccc}\n",
    "2 & 4 & -2 \\\\\n",
    "4 & 9 & -3 \\\\\n",
    "-2 & -3 & 7 \n",
    "\\end{array}\n",
    "\\right]\n",
    "\\left[\n",
    "\\begin{array}{c}\n",
    "x_1 \\\\\n",
    "x_2 \\\\\n",
    "x_3\n",
    "\\end{array}\n",
    "\\right]\n",
    "= \n",
    "\\left[\n",
    "\\begin{array}{c}\n",
    "2 \\\\ 8 \\\\ 10\n",
    "\\end{array}\n",
    "\\right]\n",
    "$\n",
    "\n",
    "Check your course notes to see a full solution to this problem and use it to help with the following exercise."
   ]
  },
  {
   "cell_type": "code",
   "execution_count": 13,
   "metadata": {
    "collapsed": false
   },
   "outputs": [
    {
     "name": "stdout",
     "output_type": "stream",
     "text": [
      "     [,1] [,2] [,3]\n",
      "[1,]    2    4   -2\n",
      "[2,]    4    9   -3\n",
      "[3,]   -2   -3    7\n"
     ]
    },
    {
     "name": "stdout",
     "output_type": "stream",
     "text": [
      "[1]  2  8 10\n"
     ]
    },
    {
     "name": "stdout",
     "output_type": "stream",
     "text": [
      "[1] 3\n"
     ]
    },
    {
     "name": "stdout",
     "output_type": "stream",
     "text": [
      "[1] 2\n",
      "[1] -1\n",
      "[1] 1\n"
     ]
    },
    {
     "name": "stdout",
     "output_type": "stream",
     "text": [
      "[1] 2\n",
      "[1] -2\n"
     ]
    },
    {
     "name": "stdout",
     "output_type": "stream",
     "text": [
      "     [,1] [,2] [,3]\n",
      "[1,]    2    4   -2\n",
      "[2,]    4    1    1\n",
      "[3,]   -2    1    4\n"
     ]
    },
    {
     "name": "stdout",
     "output_type": "stream",
     "text": [
      "[1] -1  2  2\n"
     ]
    },
    {
     "name": "stdout",
     "output_type": "stream",
     "text": [
      "     [,1]\n",
      "[1,]    2\n",
      "[2,]    8\n",
      "[3,]   10\n"
     ]
    }
   ],
   "source": [
    "##################\n",
    "# EXERCISE CELL\n",
    "##################\n",
    "\n",
    "# Instruction: The following script is a working implementation of Gaussian elimination with backwards substitution for solving this 3x3 system. For each of the below comments, describe what the command does with respect to solving this problem. YOU DO NOT NEED TO CODE ANYTHING HERE YOURSELF.\n",
    "\n",
    "A <- matrix(c(2,4,-2,4,9,-3,-2,-3,7), nrow=3, ncol=3) # create matrix A\n",
    "M <- A # store original matrix for checking later\n",
    "print(A) # output A to see\n",
    "b <- c(2,8,10) # create RHS vector b\n",
    "print(b) # output b to see\n",
    "\n",
    "n <- nrow(A) # find number of rows of A\n",
    "print(n) # output n to see\n",
    "\n",
    "# gaussian elimination\n",
    "for (k in c(1:(n-1))){ # loop thru all the rows of A\n",
    "    \n",
    "     # elimination loop to create zeros\n",
    "    for (i in c((k+1):n)){ # loop thru all rows below this row\n",
    "        factor = A[i,k]/A[k,k] # elimination factor\n",
    "        \n",
    "        print(factor)\n",
    "        \n",
    "         # update entries of A\n",
    "        for (j in c((k+1):n)){ # loop thru columns of row in elimination row\n",
    "            A[i,j] <- A[i,j] - factor*A[k,j] # linear combination update of A\n",
    "        }\n",
    "        b[i] <- b[i] - factor*b[k] # linear combination update of RHS b\n",
    "    }\n",
    "}\n",
    "\n",
    "x <- c() # initialize solution vector x\n",
    "x[n] <- b[n]/A[n,n] # compute first x value from back sub\n",
    "\n",
    "# backwards substitution\n",
    "for (i in seq(n-1,1,-1)){ # iterate backwards thru rows of echelon form A\n",
    "    sum <- b[i] # variable to keep adding terms to\n",
    "    for (j in c((i+1):n)){ # loop thru columns of a\n",
    "        sum <- sum - A[i,j]*x[j] # compute next x value\n",
    "    }\n",
    "    print(sum)\n",
    "    x[i] <- sum/A[i,i] # divide by next x value coefficient\n",
    "}\n",
    "\n",
    "print(A) # output triangular a\n",
    "print(x) # output computed solution\n",
    "print(M%*%x) # check computed solution, should get original b"
   ]
  },
  {
   "cell_type": "markdown",
   "metadata": {
    "collapsed": false
   },
   "source": [
    "#### Exercise 3\n",
    "\n",
    "Here you will code a function which takes input of a general matrix $A$ and returns output as the echelon form of matrix $A$."
   ]
  },
  {
   "cell_type": "code",
   "execution_count": 14,
   "metadata": {
    "collapsed": false
   },
   "outputs": [
    {
     "name": "stdout",
     "output_type": "stream",
     "text": [
      "     [,1] [,2] [,3]\n",
      "[1,]    2    4   -2\n",
      "[2,]    4    9   -3\n",
      "[3,]   -2   -3    7\n"
     ]
    },
    {
     "name": "stdout",
     "output_type": "stream",
     "text": [
      "     [,1] [,2] [,3]\n",
      "[1,]    2    4   -2\n",
      "[2,]    0    1    1\n",
      "[3,]    0    0    4\n"
     ]
    },
    {
     "name": "stdout",
     "output_type": "stream",
     "text": [
      "     [,1] [,2] [,3] [,4]\n",
      "[1,]    1    2    3    5\n",
      "[2,]    2    5    2    7\n",
      "[3,]    6   -3    1   -2\n"
     ]
    },
    {
     "name": "stdout",
     "output_type": "stream",
     "text": [
      "     [,1] [,2] [,3] [,4]\n",
      "[1,]    1    2    3    5\n",
      "[2,]    0    1   -4   -3\n",
      "[3,]    0    0  -77  -77\n"
     ]
    },
    {
     "name": "stdout",
     "output_type": "stream",
     "text": [
      "           [,1]       [,2]       [,3]       [,4]       [,5]       [,6]\n",
      "[1,]  0.7359053 -0.4906978  1.5220003 -1.4543621 -0.6360769  0.3884109\n",
      "[2,] -1.3361583  0.1702845 -0.5120328 -1.7502497  1.1817934 -0.9377717\n",
      "[3,]  1.4063415  0.2416994  0.8019944 -0.8047027 -0.1062470  2.1610725\n",
      "[4,]  0.7605983 -1.9366432 -0.2047562  0.7344998  1.0264123  0.3475716\n",
      "[5,]  0.3218471  0.4290242  0.3227780 -0.4621614  0.1697190 -0.9929536\n",
      "[6,]  2.0761398 -0.6077182  0.2278055 -0.5939089  0.8825498  0.7300647\n"
     ]
    },
    {
     "name": "stdout",
     "output_type": "stream",
     "text": [
      "              [,1]       [,2]     [,3]      [,4]        [,5]       [,6]\n",
      "[1,]  7.359053e-01 -0.4906978 1.522000 -1.454362 -0.63607688  0.3884109\n",
      "[2,]  0.000000e+00 -0.7206588 2.251412 -4.390886  0.02689014 -0.2325471\n",
      "[3,]  0.000000e+00  0.0000000 1.578089 -5.211551  1.15332750  1.0382153\n",
      "[4,]  1.110223e-16  0.0000000 0.000000 -9.672050  6.19360312  4.5150732\n",
      "[5,]  2.020804e-17  0.0000000 0.000000  0.000000  0.38030444 -1.6459925\n",
      "[6,] -5.779385e-17  0.0000000 0.000000  0.000000  0.00000000 -4.1352094\n"
     ]
    }
   ],
   "source": [
    "##################\n",
    "# EXERCISE CELL\n",
    "##################\n",
    "\n",
    "# Instruction: Copy and paste part of the Gaussian elimination code from exercise 2. \n",
    "# Modify this code and test it on 3 example matrices.\n",
    "# Choose examples and exercises from the textbook so you can check your work.\n",
    "\n",
    "echelonForm = function(A){\n",
    "    \n",
    "    echelonA <- A\n",
    "    \n",
    "    ###################\n",
    "    # beginning of your code\n",
    "\n",
    "\n",
    "    n <- nrow(echelonA) # find number of rows of echelonA\n",
    "    m <- ncol(echelonA) # find number of rows of echelonA\n",
    "\n",
    "    # gaussian elimination\n",
    "    for (k in c(1:(n-1))){ # loop thru all the rows of echelonA\n",
    "\n",
    "         # elimination loop to create zeros\n",
    "        for (i in c((k+1):n)){ # loop thru all rows below this row\n",
    "            factor = echelonA[i,k]/echelonA[k,k] # elimination factor\n",
    "\n",
    "             # update entries of echelonA\n",
    "            for (j in c(1:m)){ # loop thru columns of row in elimination row\n",
    "                echelonA[i,j] <- echelonA[i,j] - factor*echelonA[k,j] # linear combination update of echelonA\n",
    "            }\n",
    "        }\n",
    "    }\n",
    "    \n",
    "    # end of your code\n",
    "    ###################\n",
    "    \n",
    "    return(echelonA)\n",
    "}\n",
    "\n",
    "\n",
    "# example 1\n",
    "A <- matrix(c(2,4,-2,4,9,-3,-2,-3,7), nrow=3, ncol=3) # insert comment\n",
    "echelonA <- echelonForm(A)\n",
    "print(A)\n",
    "print(echelonA)\n",
    "\n",
    "\n",
    "# example 2\n",
    "\n",
    "###################\n",
    "# beginning of your code\n",
    "\n",
    "\n",
    "A <- matrix(c(1,2,3,5,2,5,2,7,6,-3,1,-2), nrow=3, ncol=4, byrow=TRUE) # insert comment\n",
    "echelonA <- echelonForm(A)\n",
    "print(A)\n",
    "print(echelonA)\n",
    "\n",
    "# end of your code\n",
    "###################\n",
    "\n",
    "\n",
    "# example 3\n",
    "\n",
    "###################\n",
    "# beginning of your code\n",
    "\n",
    "A <- matrix(rnorm(36),nrow=6)\n",
    "echelonA <- echelonForm(A)\n",
    "print(A)\n",
    "print(echelonA)\n",
    "\n",
    "# end of your code\n",
    "###################"
   ]
  },
  {
   "cell_type": "code",
   "execution_count": 0,
   "metadata": {
    "collapsed": false
   },
   "outputs": [
   ],
   "source": [
   ]
  }
 ],
 "metadata": {
  "kernelspec": {
   "display_name": "R (system-wide)",
   "language": "r",
   "metadata": {
    "cocalc": {
     "description": "R statistical programming language",
     "priority": 10,
     "url": "https://www.r-project.org/"
    }
   },
   "name": "ir",
   "resource_dir": "/ext/jupyter/kernels/ir"
  },
  "language_info": {
   "codemirror_mode": "r",
   "file_extension": ".r",
   "mimetype": "text/x-r-source",
   "name": "R",
   "pygments_lexer": "r",
   "version": "4.1.2"
  }
 },
 "nbformat": 4,
 "nbformat_minor": 4
}